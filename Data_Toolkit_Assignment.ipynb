{
  "nbformat": 4,
  "nbformat_minor": 0,
  "metadata": {
    "colab": {
      "provenance": []
    },
    "kernelspec": {
      "name": "python3",
      "display_name": "Python 3"
    },
    "language_info": {
      "name": "python"
    }
  },
  "cells": [
    {
      "cell_type": "markdown",
      "source": [
        "* Name: Girija Pichad.\n",
        "* Email ID: pichadgirija@gmail.com\n",
        "* Assignment Name: Data Toolkit\n",
        "* Drive Link: N/a Github Link:\n",
        "* GitHub Link:"
      ],
      "metadata": {
        "id": "ZKFc5gkNiwVi"
      }
    },
    {
      "cell_type": "markdown",
      "source": [
        "#**Theory Questions**"
      ],
      "metadata": {
        "id": "EAKXDa0KuzPG"
      }
    },
    {
      "cell_type": "markdown",
      "source": [
        "**1. What is NumPy, and why is it widely used in Python?**\n",
        "* NumPy(Numerical Python) is a fundamental library for Python numerical computing. It provides efficient multi-dimensional array objects and various mathematical functions for handling large datasets making it a critical tool for professionals in fields that require heavy computation.\n",
        "* NumPy is the fundamental package for scientific computing in Python. It is a Python library that provides a multidimensional array object, various derived objects (such as masked arrays and matrices), and an assortment of routines for fast operations on arrays, including mathematical, logical, shape manipulation, sorting, selecting, I/O, discrete Fourier transforms, basic linear algebra, basic statistical operations, random simulation and much more.\n",
        "* Key Features of NumPy:\n",
        "  * NumPy has various features that make it popular over lists.\n",
        "\n",
        "  * N-Dimensional Arrays: NumPy's core feature is ndarray, a powerful N-dimensional array object that supports homogeneous data types.\n",
        "  * Arrays with High Performance: Arrays are stored in contiguous memory locations, enabling faster computations than Python lists (Please see Numpy Array vs Python List for details).\n",
        "  * Broadcasting: This allows element-wise computations between arrays of different shapes. It simplifies operations on arrays of various shapes by automatically aligning their dimensions without creating new data.\n",
        "  * Vectorization: Eliminates the need for explicit Python loops by applying operations directly on entire arrays.\n",
        "  * Linear algebra: NumPy contains routines for linear algebra operations, such as matrix multiplication, decompositions, and determinants.\n",
        "* Advantages of NumPy:\n",
        "  * Efficiency: Both .npy and .npz formats are optimized for fast reading and writing, making them suitable for large datasets.\n",
        "\n",
        "  * Preservation of Metadata: These formats store not only the data but also the shape and data type of the arrays.\n",
        "\n",
        "  * Compression: The .npz format supports compression, reducing file size without significant performance loss.\n",
        "\n",
        "**2.  How does broadcasting work in NumPy?**\n",
        "  * Broadcasting in NumPy allows us to perform arithmetic operations on arrays of different shapes without reshaping them. It automatically adjusts the smaller array to match the larger array's shape by replicating its values along the necessary dimensions. This makes element-wise operations more efficient by reducing memory usage and eliminating the need for loops.\n",
        "  * Example:\n"
      ],
      "metadata": {
        "id": "-9dSfN1Au6RA"
      }
    },
    {
      "cell_type": "code",
      "source": [
        "import numpy as np\n",
        "\n",
        "array_2d = np.array([[1, 2, 3], [4, 5, 6]])\n",
        "scalar = 10\n",
        "\n",
        "result = array_2d + scalar\n",
        "print(result)"
      ],
      "metadata": {
        "colab": {
          "base_uri": "https://localhost:8080/"
        },
        "id": "GhsF99ppx0r5",
        "outputId": "1414e3b6-0aff-40dc-9b70-29563cc15ef1"
      },
      "execution_count": null,
      "outputs": [
        {
          "output_type": "stream",
          "name": "stdout",
          "text": [
            "[[11 12 13]\n",
            " [14 15 16]]\n"
          ]
        }
      ]
    },
    {
      "cell_type": "markdown",
      "source": [
        "* Explanation: In this example, the scalar value 10 is broadcasted to match the shape of the 2D array. As a result the scalar 10 is added to each element of the 2D array creating a new array where each element is increased by 10 which results in the output. This process simplifies element-wise operations and improves efficiency by avoiding explicit loops.\n",
        "* Working of Broadcasting in NumPy:\n",
        " Broadcasting applies specific rules to find whether two arrays can be aligned for operations or not that are:\n",
        "\n",
        "  * Check Dimensions: Ensure the arrays have the same number of dimensions or expandable dimensions.\n",
        "  * Dimension Padding: If arrays have different numbers of dimensions the smaller array is left-padded with ones.\n",
        "  * Shape Compatibility: Two dimensions are compatible if they are equal or one of them is 1.\n",
        " * If these conditions aren’t met NumPy will raise a ValueError.\n",
        "\n",
        " **3. What is a Pandas DataFrame?**\n",
        "  * A Pandas DataFrame is a two-dimensional table-like structure in Python where data is arranged in rows and columns. It’s one of the most commonly used tools for handling data and makes it easy to organize, analyze and manipulate data. It can store different types of data such as numbers, text and dates across its columns. The main parts of a DataFrame are:\n",
        "\n",
        "    * Data: Actual values in the table.\n",
        "    * Rows: Labels that identify each row.\n",
        "    * Columns: Labels that define each data category.\n",
        "  * Example:"
      ],
      "metadata": {
        "id": "eq33pkN7x2pg"
      }
    },
    {
      "cell_type": "code",
      "source": [
        "import pandas as pd\n",
        "\n",
        "data = {\n",
        "  \"calories\": [420, 380, 390],\n",
        "  \"duration\": [50, 40, 45]\n",
        "}\n",
        "\n",
        "#load data into a DataFrame object:\n",
        "df = pd.DataFrame(data)\n",
        "\n",
        "print(df)"
      ],
      "metadata": {
        "colab": {
          "base_uri": "https://localhost:8080/"
        },
        "id": "IXrEr7a01_oL",
        "outputId": "f1066839-d4c1-4e88-85bc-08ec662d4927"
      },
      "execution_count": null,
      "outputs": [
        {
          "output_type": "stream",
          "name": "stdout",
          "text": [
            "   calories  duration\n",
            "0       420        50\n",
            "1       380        40\n",
            "2       390        45\n"
          ]
        }
      ]
    },
    {
      "cell_type": "markdown",
      "source": [
        "**4. Explain the use of the groupby() method in Pandas.**\n",
        "  * Pandas groupby() function is a powerful tool used to split a DataFrame into groups based on one or more columns, allowing for efficient data analysis and aggregation. It follows a \"split-apply-combine\" strategy, where data is divided into groups, a function is applied to each group, and the results are combined into a new DataFrame.\n",
        "  * For example, if you have a dataset of sales transactions, you can use groupby() to group the data by product category and calculate the total sales for each category.\n",
        "  * How to Use Pandas GroupBy Method?\n",
        "    * The groupby() function in Pandas involves three main steps: Splitting, Applying, and Combining.\n",
        "\n",
        "    * Splitting: This step involves dividing the DataFrame into groups based on some criteria. The groups are defined by unique values in one or more columns.\n",
        "    * Applying: In this step, a function is applied to each group independently. You can apply various functions to each group, such as:\n",
        "    * Aggregation: Calculate summary statistics (e.g., sum, mean, count) for each group.\n",
        "    * Transformation: Modify the values within each group.\n",
        "    * Filtering: Keep or discard groups based on certain conditions.\n",
        "    * Combining: Finally, the results of the applied function are combined into a new DataFrame or Series.\n",
        "  * The groupby method has several parameters that can be customized:\n",
        "\n",
        "     * DataFrame.groupby(by=None, axis=0, level=None, as_index=True, sort=True, group_keys=True, observed=False, dropna=True)\n",
        "\n",
        "     * Parameters :\n",
        "\n",
        "     * by: Required parameter to specify the column(s) to group by.\n",
        "     * axis: Optional, specifies the axis to group by (default is 0 for rows).\n",
        "     * level: Optional, used for grouping by a certain level in a MultiIndex.\n",
        "     * as_index: Optional, whether to use the group labels as the index (default is True).\n",
        "     * sort: Optional, whether to sort the group keys (default is True).\n",
        "     * group_keys: Optional, whether to add the group keys to the index (default is True).\n",
        "     * dropna: Optional, whether to include rows/columns with NULL values (default is True)\n",
        "\n",
        "* Key Features and Use Cases:\n",
        "   * Aggregation: Calculate summary statistics like sum, mean, median, etc., for each group.\n",
        "   * Transformation: Modify data within groups while retaining the original structure.\n",
        "   * Filtering: Select groups that meet specific conditions.\n",
        "   * Iteration: Iterate over groups for custom operations.\n",
        "\n",
        "**5. Why is Seaborn preferred for statistical visualizations?** ??\n",
        "  * Seaborn is an excellent choice for data visualization, particularly for exploratory data analysis. It has a concise and expressive syntax that allows users to create complex and customized plots quickly. Additionally, seaborn integrates seamlessly with pandas, the main data manipulation library in Python, and can use pandas data structures as input. It also has a wide range of built-in plots that cover many common statistical and relational aspects of data, such as distributions, correlations, regressions, clustering, and more. Seaborn has a flexible and consistent style system that lets you customize the appearance and theme of your plots easily and globally. Furthermore, it supports interactive and animated plots with the help of other libraries like plotly, bokeh, and ipywidgets.\n",
        "\n",
        "**6. What are the differences between NumPy arrays and Python lists?**\n",
        "* Python lists and NumPy arrays are both used to store collections of data, but they differ significantly in terms of functionality, performance, and use cases. Below is a detailed comparison to help you understand their distinctions.\n",
        "\n",
        "* Python Lists:\n",
        "\n",
        "  * Python lists are flexible, built-in data structures that can store elements of different data types. They are ideal for general-purpose tasks where flexibility and mutability are required.\n",
        "\n",
        "  * Heterogeneous Data: Lists can store elements of varying data types, such as integers, strings, or even other lists.\n",
        "\n",
        "  * Dynamic Size: Lists are mutable and can grow or shrink dynamically by adding or removing elements.\n",
        "\n",
        "  * Memory Usage: Lists have higher memory overhead because each element stores additional metadata, such as type and reference count.\n",
        "\n",
        "  * Performance: Lists are slower for numerical computations due to Python's interpretation overhead and lack of optimization for mathematical operations.\n",
        "\n",
        "  * Functionality: Lists lack specialized functions for numerical operations, requiring manual loops for tasks like element-wise addition.\n",
        "  * Example:"
      ],
      "metadata": {
        "id": "yOw4zYLv2H6A"
      }
    },
    {
      "cell_type": "code",
      "source": [
        "# Python list example\n",
        "my_list = [1, 2, 3, \"text\"]\n",
        "my_list.append(4) # Adding an element\n",
        "print(my_list)"
      ],
      "metadata": {
        "colab": {
          "base_uri": "https://localhost:8080/"
        },
        "id": "fHq33WKCt-Lc",
        "outputId": "7faf5315-474c-4147-b867-35e794dbde71"
      },
      "execution_count": null,
      "outputs": [
        {
          "output_type": "stream",
          "name": "stdout",
          "text": [
            "[1, 2, 3, 'text', 4]\n"
          ]
        }
      ]
    },
    {
      "cell_type": "markdown",
      "source": [
        "* NumPy Arrays:\n",
        "\n",
        "  * NumPy arrays, provided by the NumPy library, are optimized for numerical computations and scientific tasks. They are designed for performance and efficiency.\n",
        "\n",
        "  * Homogeneous Data: NumPy arrays store elements of the same data type, which reduces memory usage and improves performance.\n",
        "\n",
        "  * Fixed Size: Once created, the size of a NumPy array is fixed. However, new arrays can be created if resizing is needed.\n",
        "\n",
        "  * Memory Efficiency: Arrays store data in contiguous memory blocks, making them more compact and faster to access.\n",
        "\n",
        "  * Performance: NumPy arrays are significantly faster for numerical operations due to their implementation in C and support for vectorized operations.\n",
        "\n",
        "  * Functionality: NumPy provides a wide range of built-in mathematical functions, enabling efficient element-wise operations and matrix computations.\n",
        "  * Example:"
      ],
      "metadata": {
        "id": "Z62EZu8Ct_iT"
      }
    },
    {
      "cell_type": "code",
      "source": [
        "import numpy as np\n",
        "\n",
        "# NumPy array example\n",
        "arr = np.array([1, 2, 3])\n",
        "arr = arr + 4 # Element-wise addition\n",
        "print(arr)"
      ],
      "metadata": {
        "colab": {
          "base_uri": "https://localhost:8080/"
        },
        "id": "-EA5E8iuubk1",
        "outputId": "9aa7e8d6-2457-417b-a0e0-0800f89a1f2d"
      },
      "execution_count": null,
      "outputs": [
        {
          "output_type": "stream",
          "name": "stdout",
          "text": [
            "[5 6 7]\n"
          ]
        }
      ]
    },
    {
      "cell_type": "markdown",
      "source": [
        "* Key Comparisons:\n",
        "\n",
        "  * Memory Usage: NumPy arrays consume less memory compared to Python lists. For example, a list of 1000 integers uses approximately 48,000 bytes, while a NumPy array of the same size uses only 8,000 bytes.\n",
        "\n",
        "  * Performance: Numerical operations on NumPy arrays are much faster. For instance, multiplying two arrays with a million elements each is significantly quicker with NumPy than with lists.\n",
        "\n",
        "  * Element-wise Operations: NumPy arrays support direct element-wise operations, while lists require explicit loops or comprehensions.\n",
        "\n",
        "* Use Cases:\n",
        "\n",
        "  * Python Lists: Best for general-purpose tasks, small datasets, or when working with heterogeneous data.\n",
        "\n",
        "  * NumPy Arrays: Ideal for numerical computations, large datasets, and scenarios requiring high performance and memory efficiency.\n",
        "\n",
        "* Conclusion: While Python lists are versatile and easy to use, NumPy arrays are the preferred choice for numerical and scientific computing due to their speed, efficiency, and extensive functionality. The choice between the two depends on the specific requirements of your task.\n",
        "\n",
        "**7. What is a heatmap, and when should it be used?**\n",
        "* Heatmap data visualization is a technique that uses color to represent data values. The most common color schemes range from warm colors (such as red) to cool colors (such as blue), with warm colors typically representing higher values and cool colors representing lower values. This visual representation allows for quick and intuitive understanding of complex data sets.\n",
        "\n",
        "* At its core, a heatmap is a graphical representation of data where values are depicted using colors. The data is typically arranged in a grid or matrix format, with each cell assigned a color based on its value. The intensity of the color corresponds to the magnitude of the data, allowing viewers to discern patterns and trends at a glance. Heatmaps are particularly useful for visualizing large datasets and identifying areas of interest or concentration.\n",
        "* Types of Heatmaps:\n",
        "\n",
        "   * Website Heatmaps: Show user interactions on web pages, such as clicks and scroll depth.\n",
        "\n",
        "   * Grid Heatmaps: Represent data in a tabular format, ideal for comparing multiple variables and spotting correlations.\n",
        "\n",
        "   * Clustered Heatmaps: Extend grid heatmaps by grouping similar rows and columns using hierarchical clustering, often used in fields like biology.\n",
        "* Advantages of Heatmap:\n",
        "\n",
        "  * Heatmaps offer a powerful way to visualize and analyze data, providing several advantages that make them a popular choice for data visualization:\n",
        "\n",
        "  * Identifying Patterns and Trends: Heatmaps allow for quick identification of patterns, trends, and correlations within datasets. By visually representing data with color gradients, heatmaps make it easier to discern areas of high or low concentration, enabling analysts to uncover insights that might not be apparent from raw data alone.\n",
        "  * Handling Large Datasets: Heatmaps are particularly effective for visualizing large datasets. They condense complex information into a compact, easily interpretable format, making it feasible to analyze and extract meaningful information from extensive data sets.\n",
        "  * Intuitive Interpretation: Heatmaps provide a visual representation of data that is intuitive and easy to interpret. The color gradients used in heatmaps offer a straightforward way to understand data density, intensity, and distribution, allowing viewers to grasp trends and patterns at a glance.\n",
        "  * Comparing Data Sets: Heatmaps enable side-by-side comparison of multiple datasets, facilitating the identification of similarities, differences, and relationships between variables. By overlaying or displaying multiple heatmaps simultaneously, analysts can gain insights into how different factors interact and influence each other.\n",
        "  * Facilitating Decision Making: Heatmaps help decision-makers make informed decisions by presenting complex data in a visually compelling format. Whether it's identifying areas of opportunity, allocating resources, or optimizing processes, heatmaps provide a clear and concise way to communicate insights and drive action.\n",
        "  * Versatility: Heatmaps can be applied across various domains and disciplines, including finance, healthcare, marketing, and science. From analyzing financial trends to tracking user behavior on websites, heatmaps offer a versatile tool for data visualization and analysis in diverse contexts.\n",
        "  * Enhancing Communication: Heatmaps are effective tools for communicating insights and findings to stakeholders, colleagues, and clients. Whether it's presenting research findings, reporting on key performance indicators, or visualizing spatial data, heatmaps help convey complex information in a visually appealing and accessible manner.\n",
        "* Uses of Heatmap Visualization:\n",
        "  * Heatmaps are versatile and can be used in various scenarios:\n",
        "\n",
        "  * Website Optimization: To understand user behavior and optimize webpage design.\n",
        "  * Financial Analysis: To visualize performance metrics and identify areas needing improvement.\n",
        "  * Marketing: To track campaign performance and customer engagement.\n",
        "  * Scientific Research: To analyze genetic data and other complex datasets.\n",
        "  * Geographic Analysis: Visualizing spatial data such as population density, crime rates, or weather patterns.\n",
        "  * Sports Analytics: Analyzing player movements, game strategies, or performance metrics.\n",
        "\n",
        "* Best Practices for Using Heatmaps:\n",
        "\n",
        "  * To maximize the effectiveness of heatmaps:\n",
        "\n",
        "  * Choose an appropriate color scale to ensure clarity.\n",
        "\n",
        "  * Use sufficient data to avoid misleading conclusions.\n",
        "\n",
        "   * Combine heatmaps with other analytics tools for deeper insights.\n",
        "\n",
        "   * Include a legend to help interpret the color scale.\n",
        "\n",
        "   * Highlight key areas to draw attention to important data points.\n",
        "\n",
        "* Conclusion: Heatmaps are a powerful tool for simplifying complex datasets, enabling quick decision-making and fostering better communication of insights. Whether for website optimization, scientific research, or financial analysis, heatmaps provide a visually compelling way to uncover valuable patterns and trends.\n",
        "\n",
        "**8.  What does the term “vectorized operation” mean in NumPy?**\n",
        "  * A vectorized operation in NumPy refers to performing mathematical or logical operations on entire arrays without the need for explicit loops. This approach leverages NumPy's underlying C implementation, making computations significantly faster and more efficient compared to traditional Python loops.\n",
        "  * Key Characteristics: Vectorized operations allow element-wise computations directly on arrays. For example, adding a scalar to an array or performing operations between two arrays is done in a single step without iterating through individual elements. This eliminates the overhead of Python loops and takes advantage of optimized low-level implementations.\n",
        "  * Example of Vectorized Operations:"
      ],
      "metadata": {
        "id": "pLA5B-BMul01"
      }
    },
    {
      "cell_type": "code",
      "source": [
        "import numpy as np\n",
        "\n",
        "# Create a NumPy array\n",
        "array = np.array([1, 2, 3, 4, 5])\n",
        "\n",
        "# Add a scalar to each element (vectorized operation)\n",
        "result = array + 10\n",
        "\n",
        "print(result)"
      ],
      "metadata": {
        "colab": {
          "base_uri": "https://localhost:8080/"
        },
        "id": "cnYJMrlszAxL",
        "outputId": "9fdcadca-1234-4e37-c233-2ba546dec99e"
      },
      "execution_count": null,
      "outputs": [
        {
          "output_type": "stream",
          "name": "stdout",
          "text": [
            "[11 12 13 14 15]\n"
          ]
        }
      ]
    },
    {
      "cell_type": "markdown",
      "source": [
        "* In this example, the scalar 10 is added to each element of the array in a single operation, without requiring a loop.\n",
        "\n",
        "* Performance Comparison: The performance benefits of vectorized operations are evident when working with large datasets. Consider the following comparison:"
      ],
      "metadata": {
        "id": "u9Tl5kkIuloY"
      }
    },
    {
      "cell_type": "code",
      "source": [
        "import numpy as np\n",
        "import time\n",
        "\n",
        "# Create a large array\n",
        "array = np.random.randint(1000, size=10**6)\n",
        "\n",
        "# Using a Python loop\n",
        "start = time.time()\n",
        "result_loop = [x + 1 for x in array]\n",
        "end = time.time()\n",
        "print(f\"Time with loop: {end - start:.6f} seconds\")\n",
        "\n",
        "# Using NumPy vectorized operation\n",
        "start = time.time()\n",
        "result_vectorized = array + 1\n",
        "end = time.time()\n",
        "print(f\"Time with vectorization: {end - start:.6f} seconds\")"
      ],
      "metadata": {
        "colab": {
          "base_uri": "https://localhost:8080/"
        },
        "id": "XZFgaoydzdcU",
        "outputId": "cd3a20d5-2cb9-4298-f545-93a27b444d7c"
      },
      "execution_count": null,
      "outputs": [
        {
          "output_type": "stream",
          "name": "stdout",
          "text": [
            "Time with loop: 0.266531 seconds\n",
            "Time with vectorization: 0.007427 seconds\n"
          ]
        }
      ]
    },
    {
      "cell_type": "markdown",
      "source": [
        "* The vectorized approach is significantly faster because it avoids the overhead of Python's interpreted loops and directly utilizes NumPy's optimized C-based operations.\n",
        "* Practical Applications: Vectorized operations are widely used in:\n",
        "\n",
        "  * Data processing: Applying transformations to large datasets.\n",
        "\n",
        "  * Machine learning: Performing matrix operations like dot products and element-wise computations.\n",
        "\n",
        "  * Scientific computing: Handling numerical simulations and large-scale computations efficiently.\n",
        "\n",
        "* Important Considerations: While vectorization improves performance, it requires sufficient memory to store intermediate results. For extremely large datasets, memory constraints might necessitate chunking or alternative approaches.\n",
        "\n",
        "* In summary, vectorized operations in NumPy are a cornerstone of efficient numerical computing in Python, enabling concise, readable, and high-performance code.\n",
        "\n",
        "**9. How does Matplotlib differ from Plotly?**\n",
        "   * Plotly and Matplotlib are two of the most widely used libraries for data visualization in Python. Both are powerful tools, but they have different strengths and weaknesses that make them suited to different types of projects.\n",
        "   * Matplotlib: Matplotlib is a versatile and widely-used plotting library that offers extensive customization options. It is well-suited for creating static, high-quality visualizations and is the foundation for many other plotting libraries, such as Seaborn and Pandas plotting.\n",
        "   * Key Features of Matplotlib: Matplotlib is a versatile library for creating static, high-quality visualizations. It is highly customizable, allowing users to control every aspect of a plot, such as fonts, colors, and axes. It is ideal for scientific papers, reports, and presentations where static plots are required. Additionally, it serves as the foundation for other libraries like Seaborn and Pandas plotting.\n",
        "   * Example of a simple line plot in Matplotlib:\n",
        "\n"
      ],
      "metadata": {
        "id": "RZqQReOkzj06"
      }
    },
    {
      "cell_type": "code",
      "source": [
        "import matplotlib.pyplot as plt\n",
        "\n",
        "x = [0, 1, 2, 3, 4, 5]\n",
        "y = [0, 1, 4, 9, 16, 25]\n",
        "\n",
        "plt.plot(x, y, marker='o')\n",
        "plt.title('Matplotlib Line Plot')\n",
        "plt.xlabel('X-axis')\n",
        "plt.ylabel('Y-axis')\n",
        "plt.grid(True)\n",
        "plt.show()"
      ],
      "metadata": {
        "colab": {
          "base_uri": "https://localhost:8080/",
          "height": 472
        },
        "id": "_8nYMdqe1dIR",
        "outputId": "f61027b8-e70b-46bf-8893-668d55c3b474"
      },
      "execution_count": null,
      "outputs": [
        {
          "output_type": "display_data",
          "data": {
            "text/plain": [
              "<Figure size 640x480 with 1 Axes>"
            ],
            "image/png": "[encoded data removed]"
          },
          "metadata": {}
        }
      ]
    },
    {
      "cell_type": "markdown",
      "source": [
        "* Plotly: Plotly is an interactive graphing library that allows for the creation of dynamic and visually appealing plots. It offers built-in interactivity, which can be integrated easily into web applications. Plotly is great for dashboards and presentations where user interaction is key.\n",
        "* Key Features of Plotly: Plotly excels in creating interactive and visually appealing plots. It allows users to zoom, pan, and hover over data points for additional details. This makes it ideal for dashboards, web applications, and presentations requiring user interaction. Plotly also supports 3D plots, animations, and geospatial visualizations, which are either limited or require additional libraries in Matplotlib.\n",
        "* Example of an interactive line plot in Plotly:"
      ],
      "metadata": {
        "id": "x6y8E-sc1jJf"
      }
    },
    {
      "cell_type": "code",
      "source": [
        "import plotly.graph_objects as go\n",
        "\n",
        "x = [0, 1, 2, 3, 4, 5]\n",
        "y = [0, 1, 4, 9, 16, 25]\n",
        "\n",
        "fig = go.Figure(data=go.Scatter(x=x, y=y, mode='lines+markers'))\n",
        "fig.update_layout(title='Plotly Line Plot', xaxis_title='X-axis', yaxis_title='Y-axis')\n",
        "fig.show()"
      ],
      "metadata": {
        "colab": {
          "base_uri": "https://localhost:8080/",
          "height": 542
        },
        "id": "ClfhsmWK2FT4",
        "outputId": "528f67e9-ff50-4a95-a742-d6f32aa7d342"
      },
      "execution_count": null,
      "outputs": [
        {
          "output_type": "display_data",
          "data": {
            "text/html": [
              "<html>\n",
              "<head><meta charset=\"utf-8\" /></head>\n",
              "<body>\n",
              "    <div>            <script src=\"https://cdnjs.cloudflare.com/ajax/libs/mathjax/2.7.5/MathJax.js?config=TeX-AMS-MML_SVG\"></script><script type=\"text/javascript\">if (window.MathJax && window.MathJax.Hub && window.MathJax.Hub.Config) {window.MathJax.Hub.Config({SVG: {font: \"STIX-Web\"}});}</script>                <script type=\"text/javascript\">window.PlotlyConfig = {MathJaxConfig: 'local'};</script>\n",
              "        <script charset=\"utf-8\" src=\"https://cdn.plot.ly/plotly-2.35.2.min.js\"></script>                <div id=\"d4a3857c-86a5-4c2b-af4a-c532b133bae6\" class=\"plotly-graph-div\" style=\"height:525px; width:100%;\"></div>            <script type=\"text/javascript\">                                    window.PLOTLYENV=window.PLOTLYENV || {};                                    if (document.getElementById(\"d4a3857c-86a5-4c2b-af4a-c532b133bae6\")) {                    Plotly.newPlot(                        \"d4a3857c-86a5-4c2b-af4a-c532b133bae6\",                        [{\"mode\":\"lines+markers\",\"x\":[0,1,2,3,4,5],\"y\":[0,1,4,9,16,25],\"type\":\"scatter\"}],                        {\"template\":{\"data\":{\"histogram2dcontour\":[{\"type\":\"histogram2dcontour\",\"colorbar\":{\"outlinewidth\":0,\"ticks\":\"\"},\"colorscale\":[[0.0,\"#0d0887\"],[0.1111111111111111,\"#46039f\"],[0.2222222222222222,\"#7201a8\"],[0.3333333333333333,\"#9c179e\"],[0.4444444444444444,\"#bd3786\"],[0.5555555555555556,\"#d8576b\"],[0.6666666666666666,\"#ed7953\"],[0.7777777777777778,\"#fb9f3a\"],[0.8888888888888888,\"#fdca26\"],[1.0,\"#f0f921\"]]}],\"choropleth\":[{\"type\":\"choropleth\",\"colorbar\":{\"outlinewidth\":0,\"ticks\":\"\"}}],\"histogram2d\":[{\"type\":\"histogram2d\",\"colorbar\":{\"outlinewidth\":0,\"ticks\":\"\"},\"colorscale\":[[0.0,\"#0d0887\"],[0.1111111111111111,\"#46039f\"],[0.2222222222222222,\"#7201a8\"],[0.3333333333333333,\"#9c179e\"],[0.4444444444444444,\"#bd3786\"],[0.5555555555555556,\"#d8576b\"],[0.6666666666666666,\"#ed7953\"],[0.7777777777777778,\"#fb9f3a\"],[0.8888888888888888,\"#fdca26\"],[1.0,\"#f0f921\"]]}],\"heatmap\":[{\"type\":\"heatmap\",\"colorbar\":{\"outlinewidth\":0,\"ticks\":\"\"},\"colorscale\":[[0.0,\"#0d0887\"],[0.1111111111111111,\"#46039f\"],[0.2222222222222222,\"#7201a8\"],[0.3333333333333333,\"#9c179e\"],[0.4444444444444444,\"#bd3786\"],[0.5555555555555556,\"#d8576b\"],[0.6666666666666666,\"#ed7953\"],[0.7777777777777778,\"#fb9f3a\"],[0.8888888888888888,\"#fdca26\"],[1.0,\"#f0f921\"]]}],\"heatmapgl\":[{\"type\":\"heatmapgl\",\"colorbar\":{\"outlinewidth\":0,\"ticks\":\"\"},\"colorscale\":[[0.0,\"#0d0887\"],[0.1111111111111111,\"#46039f\"],[0.2222222222222222,\"#7201a8\"],[0.3333333333333333,\"#9c179e\"],[0.4444444444444444,\"#bd3786\"],[0.5555555555555556,\"#d8576b\"],[0.6666666666666666,\"#ed7953\"],[0.7777777777777778,\"#fb9f3a\"],[0.8888888888888888,\"#fdca26\"],[1.0,\"#f0f921\"]]}],\"contourcarpet\":[{\"type\":\"contourcarpet\",\"colorbar\":{\"outlinewidth\":0,\"ticks\":\"\"}}],\"contour\":[{\"type\":\"contour\",\"colorbar\":{\"outlinewidth\":0,\"ticks\":\"\"},\"colorscale\":[[0.0,\"#0d0887\"],[0.1111111111111111,\"#46039f\"],[0.2222222222222222,\"#7201a8\"],[0.3333333333333333,\"#9c179e\"],[0.4444444444444444,\"#bd3786\"],[0.5555555555555556,\"#d8576b\"],[0.6666666666666666,\"#ed7953\"],[0.7777777777777778,\"#fb9f3a\"],[0.8888888888888888,\"#fdca26\"],[1.0,\"#f0f921\"]]}],\"surface\":[{\"type\":\"surface\",\"colorbar\":{\"outlinewidth\":0,\"ticks\":\"\"},\"colorscale\":[[0.0,\"#0d0887\"],[0.1111111111111111,\"#46039f\"],[0.2222222222222222,\"#7201a8\"],[0.3333333333333333,\"#9c179e\"],[0.4444444444444444,\"#bd3786\"],[0.5555555555555556,\"#d8576b\"],[0.6666666666666666,\"#ed7953\"],[0.7777777777777778,\"#fb9f3a\"],[0.8888888888888888,\"#fdca26\"],[1.0,\"#f0f921\"]]}],\"mesh3d\":[{\"type\":\"mesh3d\",\"colorbar\":{\"outlinewidth\":0,\"ticks\":\"\"}}],\"scatter\":[{\"fillpattern\":{\"fillmode\":\"overlay\",\"size\":10,\"solidity\":0.2},\"type\":\"scatter\"}],\"parcoords\":[{\"type\":\"parcoords\",\"line\":{\"colorbar\":{\"outlinewidth\":0,\"ticks\":\"\"}}}],\"scatterpolargl\":[{\"type\":\"scatterpolargl\",\"marker\":{\"colorbar\":{\"outlinewidth\":0,\"ticks\":\"\"}}}],\"bar\":[{\"error_x\":{\"color\":\"#2a3f5f\"},\"error_y\":{\"color\":\"#2a3f5f\"},\"marker\":{\"line\":{\"color\":\"#E5ECF6\",\"width\":0.5},\"pattern\":{\"fillmode\":\"overlay\",\"size\":10,\"solidity\":0.2}},\"type\":\"bar\"}],\"scattergeo\":[{\"type\":\"scattergeo\",\"marker\":{\"colorbar\":{\"outlinewidth\":0,\"ticks\":\"\"}}}],\"scatterpolar\":[{\"type\":\"scatterpolar\",\"marker\":{\"colorbar\":{\"outlinewidth\":0,\"ticks\":\"\"}}}],\"histogram\":[{\"marker\":{\"pattern\":{\"fillmode\":\"overlay\",\"size\":10,\"solidity\":0.2}},\"type\":\"histogram\"}],\"scattergl\":[{\"type\":\"scattergl\",\"marker\":{\"colorbar\":{\"outlinewidth\":0,\"ticks\":\"\"}}}],\"scatter3d\":[{\"type\":\"scatter3d\",\"line\":{\"colorbar\":{\"outlinewidth\":0,\"ticks\":\"\"}},\"marker\":{\"colorbar\":{\"outlinewidth\":0,\"ticks\":\"\"}}}],\"scattermapbox\":[{\"type\":\"scattermapbox\",\"marker\":{\"colorbar\":{\"outlinewidth\":0,\"ticks\":\"\"}}}],\"scatterternary\":[{\"type\":\"scatterternary\",\"marker\":{\"colorbar\":{\"outlinewidth\":0,\"ticks\":\"\"}}}],\"scattercarpet\":[{\"type\":\"scattercarpet\",\"marker\":{\"colorbar\":{\"outlinewidth\":0,\"ticks\":\"\"}}}],\"carpet\":[{\"aaxis\":{\"endlinecolor\":\"#2a3f5f\",\"gridcolor\":\"white\",\"linecolor\":\"white\",\"minorgridcolor\":\"white\",\"startlinecolor\":\"#2a3f5f\"},\"baxis\":{\"endlinecolor\":\"#2a3f5f\",\"gridcolor\":\"white\",\"linecolor\":\"white\",\"minorgridcolor\":\"white\",\"startlinecolor\":\"#2a3f5f\"},\"type\":\"carpet\"}],\"table\":[{\"cells\":{\"fill\":{\"color\":\"#EBF0F8\"},\"line\":{\"color\":\"white\"}},\"header\":{\"fill\":{\"color\":\"#C8D4E3\"},\"line\":{\"color\":\"white\"}},\"type\":\"table\"}],\"barpolar\":[{\"marker\":{\"line\":{\"color\":\"#E5ECF6\",\"width\":0.5},\"pattern\":{\"fillmode\":\"overlay\",\"size\":10,\"solidity\":0.2}},\"type\":\"barpolar\"}],\"pie\":[{\"automargin\":true,\"type\":\"pie\"}]},\"layout\":{\"autotypenumbers\":\"strict\",\"colorway\":[\"#636efa\",\"#EF553B\",\"#00cc96\",\"#ab63fa\",\"#FFA15A\",\"#19d3f3\",\"#FF6692\",\"#B6E880\",\"#FF97FF\",\"#FECB52\"],\"font\":{\"color\":\"#2a3f5f\"},\"hovermode\":\"closest\",\"hoverlabel\":{\"align\":\"left\"},\"paper_bgcolor\":\"white\",\"plot_bgcolor\":\"#E5ECF6\",\"polar\":{\"bgcolor\":\"#E5ECF6\",\"angularaxis\":{\"gridcolor\":\"white\",\"linecolor\":\"white\",\"ticks\":\"\"},\"radialaxis\":{\"gridcolor\":\"white\",\"linecolor\":\"white\",\"ticks\":\"\"}},\"ternary\":{\"bgcolor\":\"#E5ECF6\",\"aaxis\":{\"gridcolor\":\"white\",\"linecolor\":\"white\",\"ticks\":\"\"},\"baxis\":{\"gridcolor\":\"white\",\"linecolor\":\"white\",\"ticks\":\"\"},\"caxis\":{\"gridcolor\":\"white\",\"linecolor\":\"white\",\"ticks\":\"\"}},\"coloraxis\":{\"colorbar\":{\"outlinewidth\":0,\"ticks\":\"\"}},\"colorscale\":{\"sequential\":[[0.0,\"#0d0887\"],[0.1111111111111111,\"#46039f\"],[0.2222222222222222,\"#7201a8\"],[0.3333333333333333,\"#9c179e\"],[0.4444444444444444,\"#bd3786\"],[0.5555555555555556,\"#d8576b\"],[0.6666666666666666,\"#ed7953\"],[0.7777777777777778,\"#fb9f3a\"],[0.8888888888888888,\"#fdca26\"],[1.0,\"#f0f921\"]],\"sequentialminus\":[[0.0,\"#0d0887\"],[0.1111111111111111,\"#46039f\"],[0.2222222222222222,\"#7201a8\"],[0.3333333333333333,\"#9c179e\"],[0.4444444444444444,\"#bd3786\"],[0.5555555555555556,\"#d8576b\"],[0.6666666666666666,\"#ed7953\"],[0.7777777777777778,\"#fb9f3a\"],[0.8888888888888888,\"#fdca26\"],[1.0,\"#f0f921\"]],\"diverging\":[[0,\"#8e0152\"],[0.1,\"#c51b7d\"],[0.2,\"#de77ae\"],[0.3,\"#f1b6da\"],[0.4,\"#fde0ef\"],[0.5,\"#f7f7f7\"],[0.6,\"#e6f5d0\"],[0.7,\"#b8e186\"],[0.8,\"#7fbc41\"],[0.9,\"#4d9221\"],[1,\"#276419\"]]},\"xaxis\":{\"gridcolor\":\"white\",\"linecolor\":\"white\",\"ticks\":\"\",\"title\":{\"standoff\":15},\"zerolinecolor\":\"white\",\"automargin\":true,\"zerolinewidth\":2},\"yaxis\":{\"gridcolor\":\"white\",\"linecolor\":\"white\",\"ticks\":\"\",\"title\":{\"standoff\":15},\"zerolinecolor\":\"white\",\"automargin\":true,\"zerolinewidth\":2},\"scene\":{\"xaxis\":{\"backgroundcolor\":\"#E5ECF6\",\"gridcolor\":\"white\",\"linecolor\":\"white\",\"showbackground\":true,\"ticks\":\"\",\"zerolinecolor\":\"white\",\"gridwidth\":2},\"yaxis\":{\"backgroundcolor\":\"#E5ECF6\",\"gridcolor\":\"white\",\"linecolor\":\"white\",\"showbackground\":true,\"ticks\":\"\",\"zerolinecolor\":\"white\",\"gridwidth\":2},\"zaxis\":{\"backgroundcolor\":\"#E5ECF6\",\"gridcolor\":\"white\",\"linecolor\":\"white\",\"showbackground\":true,\"ticks\":\"\",\"zerolinecolor\":\"white\",\"gridwidth\":2}},\"shapedefaults\":{\"line\":{\"color\":\"#2a3f5f\"}},\"annotationdefaults\":{\"arrowcolor\":\"#2a3f5f\",\"arrowhead\":0,\"arrowwidth\":1},\"geo\":{\"bgcolor\":\"white\",\"landcolor\":\"#E5ECF6\",\"subunitcolor\":\"white\",\"showland\":true,\"showlakes\":true,\"lakecolor\":\"white\"},\"title\":{\"x\":0.05},\"mapbox\":{\"style\":\"light\"}}},\"title\":{\"text\":\"Plotly Line Plot\"},\"xaxis\":{\"title\":{\"text\":\"X-axis\"}},\"yaxis\":{\"title\":{\"text\":\"Y-axis\"}}},                        {\"responsive\": true}                    ).then(function(){\n",
              "                            \n",
              "var gd = document.getElementById('d4a3857c-86a5-4c2b-af4a-c532b133bae6');\n",
              "var x = new MutationObserver(function (mutations, observer) {{\n",
              "        var display = window.getComputedStyle(gd).display;\n",
              "        if (!display || display === 'none') {{\n",
              "            console.log([gd, 'removed!']);\n",
              "            Plotly.purge(gd);\n",
              "            observer.disconnect();\n",
              "        }}\n",
              "}});\n",
              "\n",
              "// Listen for the removal of the full notebook cells\n",
              "var notebookContainer = gd.closest('#notebook-container');\n",
              "if (notebookContainer) {{\n",
              "    x.observe(notebookContainer, {childList: true});\n",
              "}}\n",
              "\n",
              "// Listen for the clearing of the current output cell\n",
              "var outputEl = gd.closest('.output');\n",
              "if (outputEl) {{\n",
              "    x.observe(outputEl, {childList: true});\n",
              "}}\n",
              "\n",
              "                        })                };                            </script>        </div>\n",
              "</body>\n",
              "</html>"
            ]
          },
          "metadata": {}
        }
      ]
    },
    {
      "cell_type": "markdown",
      "source": [
        "* Strengths and Weaknesses:\n",
        "\n",
        "* Matplotlib:\n",
        "\n",
        "  * Strengths: Extensive customization, static high-quality plots, and compatibility with other Python libraries like Pandas and Seaborn.\n",
        "\n",
        "  * Weaknesses: Limited interactivity and verbose code for complex visualizations.\n",
        "\n",
        "* Plotly:\n",
        "\n",
        "  * Strengths: Built-in interactivity, modern aesthetics, and ease of use for creating complex visualizations with minimal code.\n",
        "\n",
        "  * Weaknesses: Slower performance with large datasets, reliance on web technologies, and a steeper learning curve for advanced features.\n",
        "\n",
        "* Use Cases:\n",
        "\n",
        "  * Use Matplotlib for static plots in scientific reports, where fine-grained control over plot elements is essential.\n",
        "\n",
        "  * Use Plotly for interactive dashboards, web-based applications, or presentations requiring dynamic visualizations.\n",
        "\n",
        "* Conclusion: Both libraries are excellent tools for data visualization, but the choice depends on your specific requirements. For static, publication-quality plots, Matplotlib is the go-to library. For interactive and visually engaging plots, Plotly is the better choice. In some projects, you can even combine both libraries to leverage their respective strengths.\n",
        "\n",
        "**10. What is the significance of hierarchical indexing in Panda?**\n",
        "  * Hierarchical indexing, also known as multi-indexing, allows for multiple levels of indexing in a Pandas DataFrame or Series. This feature is particularly useful for organizing and analyzing higher-dimensional data within the familiar two-dimensional structure of Pandas objects.\n",
        "  * Hierarchical indexing enables the representation of data with multiple keys, making it easier to work with datasets that have nested relationships. For example, you can index data by multiple levels, such as \"region,\" \"state,\" and \"year,\" to create a structured and intuitive way to access and manipulate data.\n",
        "  * Key Benefits:\n",
        "  * Efficient Data Organization: Hierarchical indexing allows for compact representation of multi-dimensional data. Instead of using separate DataFrames for each dimension, you can store all data in a single DataFrame with multiple index levels.\n",
        "\n",
        " * Enhanced Data Selection: It simplifies the process of selecting subsets of data. For instance, you can use .loc[] with tuples or slices to access specific levels of the index.\n"
      ],
      "metadata": {
        "id": "k3LI2FpJ2WEN"
      }
    },
    {
      "cell_type": "code",
      "source": [
        "# Example of selecting data using hierarchical indexing\n",
        "df.loc[('Pacific', 'California'), :]"
      ],
      "metadata": {
        "id": "Gkrx5Fnp31aT"
      },
      "execution_count": null,
      "outputs": []
    },
    {
      "cell_type": "markdown",
      "source": [
        "* Flexibility in Data Manipulation: Operations like stacking, unstacking, and resetting indices allow for seamless transformation between hierarchical and flat representations of data. This is particularly useful for reshaping datasets.\n"
      ],
      "metadata": {
        "id": "7mzKxT-C347c"
      }
    },
    {
      "cell_type": "code",
      "source": [
        "# Convert hierarchical index to columns\n",
        "df.reset_index(inplace=True)"
      ],
      "metadata": {
        "id": "TKF-2bVp39bv"
      },
      "execution_count": null,
      "outputs": []
    },
    {
      "cell_type": "markdown",
      "source": [
        "* Improved Analysis: Hierarchical indexing supports group-based operations, such as aggregations and computations, across multiple levels. This is invaluable for analyzing complex datasets.\n",
        "\n",
        "\n",
        "* Compatibility with High-Dimensional Data: It bridges the gap between two-dimensional DataFrames and higher-dimensional data, enabling operations on datasets with three or more dimensions\n",
        "* Practical Applications:\n",
        "\n",
        "  * Time-Series Data: Organize data by date and time for multi-level analysis.\n",
        "\n",
        "  * Geographical Data: Index data by region, state, and city for hierarchical exploration.\n",
        "\n",
        "  * Financial Data: Analyze stock prices by company and year.\n",
        "\n",
        "* Important Considerations: While hierarchical indexing is powerful, it requires careful management. For example, indices must often be sorted for certain operations, and working with unsorted indices can lead to errors. Additionally, understanding how to reset or set indices is crucial for effective use. Hierarchical indexing is a cornerstone of Pandas' flexibility, enabling users to handle complex datasets with ease and efficiency.\n",
        "\n",
        "**11. What is the role of Seaborn’s pairplot() function?**\n",
        "  * A pair plot is a powerful visualization tool in Seaborn.It creates a grid of scatter plots for numerical variables and can include additional information using color (hue).\n",
        "  * The Seaborn.pairplot() method is used to plot pairwise relationships in a dataset. Each numeric variable in the data will be spread over the y-axes across a single row and the x-axes across a single column by default, according to the axes grid created by this function.\n",
        "\n",
        "  * A univariate distribution plot is created to display the marginal distribution of the data in each column for the diagonal plots, which are handled differently.\n",
        "\n",
        "  * Additionally, you can display only a portion of the data or plot other variables in distinct rows and columns. This high-level PairGrid interface is designed to make it simple to create a few popular styles.\n",
        "  * Pair plots play a crucial role in EDA by facilitating a quick, yet thorough, examination of how variables interact with each other. They enable data scientists to:\n",
        "    * Visualize distributions: Understand the distribution of single variables.\n",
        "    * Identify relationships: Observe linear or nonlinear relationships between variables.\n",
        "    * Detect anomalies: Spot outliers that may indicate errors or unique insights.\n",
        "  * Essentials Parameters of Seaborn Pairplot:\n",
        "    * data: The dataset for plotting is structured as a pandas DataFrame where columns are variables and rows are observations.\n",
        "    * hue: Categorical variable name in data. It colors data points differently based on the category, allowing for distinction between groups.\n",
        "    * kind:Takes values from{scatter, kde, hist, reg}and the kind of plot to make is determined.\n",
        "    * diag_kind: Takes values from{auto, hist, kde, None} and the kind of plot for the diagonal subplots is determined if used. If auto, choose based on whether or not hue is used.\n",
        "    *\theight: Takes a scalar value and determines the height of the facet.\n",
        "    * aspect: Takes scalar value and Aspect ratio of each facet, so that aspect gives the width of each facet in inches.\n",
        "    * corner: Takes Boolean value and If True, dont add axes to the upper (off-diagonal) triangle of the grid, making this a corner plot.\n",
        "    * hue_order: Takes lists as input and Order for the levels of the faceting variables is determined by this order.\n",
        "    * vars: List of variable names to plot. If not provided, all numeric columns are used.\n",
        "    * palette: Color palette for differentiating the levels of the hue variable. It determines the color scheme for plotting.\n",
        "    * markers: Marker styles for the scatterplot points are especially useful when the hue parameter is used. It can be a single marker format or a list specifying a different marker for each hue category.\n",
        "    * plot_kws: Dictionary of keyword arguments passed to the plotting function for the off-diagonal elements.\n",
        "    * diag_kws: Dictionary of keyword arguments passed to the function used for diagonal elements.\n",
        "    * grid_kws: Dictionary of keyword arguments passed to the PairGrid constructor, affecting the layout of the plots.\n",
        "    * size: Deprecated; use height instead. It was previously used to set the height of the plots but has been replaced by the height parameter for consistency.\n",
        "    * dropna: Whether to drop missing values from the data before plotting. True removes missing values.\n",
        "\n",
        "**12. What is the purpose of the describe() function in Pandas?**\n",
        "   * The describe() method in Pandas generates descriptive statistics of DataFrame columns which provides key metrics like mean, standard deviation, percentiles and more. It works with numeric data by default but can also handle categorical data which offers insights like the most frequent value and the number of unique entries. In this article, we'll see how to use describe() for both numeric and categorical data.\n",
        "   * Syntax: DataFrame.describe(percentiles=None, include=None, exclude=None)\n",
        "\n",
        "  * Parameters:\n",
        "\n",
        "    * percentiles: A list of numbers between 0 and 1 specifying which percentiles to return. The default is None which returns the 25th, 50th and 75th percentiles.\n",
        "    *  include: A list of data types to include in the summary like int, float, object for strings. Default is None means all numeric types are included.\n",
        "    * exclude: A list of data types to exclude from the summary. Default is None means no types are excluded.\n",
        "* Example:\n"
      ],
      "metadata": {
        "id": "jOWFttxN4Azr"
      }
    },
    {
      "cell_type": "code",
      "source": [
        "import pandas as pd\n",
        "\n",
        "data = [[10, 18, 11], [13, 15, 8], [9, 20, 3]]\n",
        "\n",
        "df = pd.DataFrame(data)\n",
        "\n",
        "print(df.describe())"
      ],
      "metadata": {
        "colab": {
          "base_uri": "https://localhost:8080/"
        },
        "id": "K0GrCsOKDtGm",
        "outputId": "773734ab-e2ba-45ef-c6b3-b93e7b94bf79"
      },
      "execution_count": null,
      "outputs": [
        {
          "output_type": "stream",
          "name": "stdout",
          "text": [
            "               0          1          2\n",
            "count   3.000000   3.000000   3.000000\n",
            "mean   10.666667  17.666667   7.333333\n",
            "std     2.081666   2.516611   4.041452\n",
            "min     9.000000  15.000000   3.000000\n",
            "25%     9.500000  16.500000   5.500000\n",
            "50%    10.000000  18.000000   8.000000\n",
            "75%    11.500000  19.000000   9.500000\n",
            "max    13.000000  20.000000  11.000000\n"
          ]
        }
      ]
    },
    {
      "cell_type": "markdown",
      "source": [
        "* The describe() method returns a statistical summary of the DataFrame or Series which helps to understand the key characteristics of our data quickly. Lets see some examples for its better understanding.\n",
        "\n",
        "**13. Why is handling missing data important in Pandas?**\n",
        "   * In Pandas, missing data occurs when some values are missing or not collected properly and these missing values are represented as:\n",
        "     * None: A Python object used to represent missing values in object-type arrays.\n",
        "     * NaN: A special floating-point value from NumPy which is recognized by all systems that use IEEE floating-point standards.\n",
        "   * In Pandas, missing values, often represented as NaN (Not a Number), can cause problems during data processing and analysis. These gaps in data can lead to incorrect analysis and misleading conclusions.\n",
        "   * Pandas provides a host of functions like dropna(), fillna() and combine_first() to handle missing values.\n",
        "   * Let's consider the following DataFrame to illustrate various techniques on handling missing data:\n",
        "\n",
        "\n"
      ],
      "metadata": {
        "id": "3-A2sWx0Dzfe"
      }
    },
    {
      "cell_type": "code",
      "source": [
        "import pandas as pd\n",
        "import numpy as np\n",
        "\n",
        "# create dataframe with missing values\n",
        "data = {\n",
        "    'A': [1, 2, np.nan, 4, 5],\n",
        "    'B': [np.nan, 2, 3, 4, 5],\n",
        "    'C': [1, 2, 3, np.nan, 5],\n",
        "    'D': [1, 2, 3, 4, 5]\n",
        "}\n",
        "df = pd.DataFrame(data)\n",
        "\n",
        "print(df)"
      ],
      "metadata": {
        "colab": {
          "base_uri": "https://localhost:8080/"
        },
        "id": "SHphW2hfSauK",
        "outputId": "cdf571c9-4810-42c2-9244-6037f68290f4"
      },
      "execution_count": null,
      "outputs": [
        {
          "output_type": "stream",
          "name": "stdout",
          "text": [
            "     A    B    C  D\n",
            "0  1.0  NaN  1.0  1\n",
            "1  2.0  2.0  2.0  2\n",
            "2  NaN  3.0  3.0  3\n",
            "3  4.0  4.0  NaN  4\n",
            "4  5.0  5.0  5.0  5\n"
          ]
        }
      ]
    },
    {
      "cell_type": "markdown",
      "source": [
        "* Here, we have used the NumPy library to generate NaN values in the DataFrame.\n",
        "\n",
        "* Step-by-Step: Handling Missing Data in Pandas:\n",
        "   * Step 1: Load and Explore the Data\n",
        "   * Step 2: Detect Missing Values\n",
        "       * In, df[df[‘column’].isnull()], here ‘column’ which we want to take/assign column name if there’s any missing values is detected then that particular column will show null values.\n",
        "   * Step 3: Drop Missing Value\n",
        "        * Drop missing values in rows or columns by using df.dropna() function.\n",
        "   * Step 4: Fill Missing Values (Imputation)\n",
        "         * Fill the missing values by using df.fillna() function\n",
        "   * Step 5: Conditional Imputation (based on another column)\n",
        "   * Step 6: Visualize Missing Data\n",
        "\n",
        "* Alternative method is we can also use missingo library to handle the missing data.\n",
        "\n",
        "* To handle missing data effectively:\n",
        "\n",
        "   * Understand the mechanism: Is the data missing randomly, because of another factor, or due to the value itself?\n",
        "   * Explore the pattern: Use visual tools and summaries to detect where and how the data is missing.\n",
        "   * Choose the right strategy: Based on context, either drop, fill, or flag the missing data. No single method fits all situations.\n",
        "   * Think analytically: Every decision — whether to drop a row or impute a value — can impact your analysis or machine learning model.\n",
        "   * Preserve meaning: Always consider the business or domain implications before altering your data.\n",
        "* In short, handling missing data isn’t just about cleaning — it’s about thinking critically and responsibly. The goal is not just a “complete” dataset, but a trustworthy and insightful one.Missing data is not just a technical issue — it’s a window into the imperfections and realities of how data is collected in the real world. Whether it’s a skipped question in a survey, a broken sensor, or an intentional omission, each gap tells a story.\n",
        "\n",
        "**14. What are the benefits of using Plotly for data visualization?**\n",
        "   * Plotly is an open-source Python library designed to create interactive, visually appealing charts and graphs. It helps users to explore data through features like zooming, additional details and clicking for deeper insights. It handles the interactivity with JavaScript behind the scenes so that we can focus on writing Python code to build the charts.\n",
        "   * Plotly is a powerful, open-source Python library designed for creating interactive and visually appealing data visualizations. It offers a wide range of features that make it a preferred choice for data practitioners and analysts.\n",
        "   * To get started with Plotly simply install it using the following command:\n",
        "\n",
        "     *  pip install plotly\n",
        "\n",
        "   * Plotly supports interactive visualizations, allowing users to zoom, hover, and click for deeper insights. This interactivity enhances data exploration and makes it easier to uncover hidden patterns and trends. Unlike static libraries like Matplotlib, Plotly handles interactivity using JavaScript behind the scenes, while users only need to write Python code.\n",
        "\n",
        "  * It provides versatility in chart types, including line charts, bar charts, scatter plots, histograms, pie charts, box plots, violin plots, and even 3D scatter plots. This variety enables users to represent data in multiple formats, catering to different analytical needs.\n",
        "\n",
        "  * Plotly is easy to use, especially with its high-level API, plotly.express. This module simplifies the creation of complex visualizations with minimal code. For example, creating a scatter plot or a histogram can be done in just a few lines.\n",
        "\n",
        "  * The library supports customization and styling, allowing users to adjust layouts, colors, markers, and annotations. This flexibility ensures that visualizations can be tailored to specific requirements, making them more informative and visually appealing.\n",
        "\n",
        "\n",
        "  * Plotly integrates seamlessly with other Python libraries like Pandas, enabling users to visualize data directly from DataFrames. It also supports exporting charts as static images or embedding them in web applications.\n",
        "\n",
        "\n",
        "  * For advanced use cases, Plotly provides tools for building interactive dashboards using its Dash framework. Dash allows users to create dynamic, web-based dashboards with complex interactions, making it ideal for business intelligence and real-time data monitoring.\n",
        "\n",
        "\n",
        " * In summary, Plotly's interactivity, versatility, ease of use, and advanced features like dashboard creation make it a standout tool for data visualization. It empowers users to explore data effectively and communicate insights in a compelling manner.\n",
        "\n",
        "**15.  How does NumPy handle multidimensional arrays?**\n",
        "   * NumPy is a general-purpose array-processing package. It provides a high-performance multidimensional array object and tools for working with these arrays. It is the fundamental package for scientific computing with Python. It contains various features.\n",
        "   * Multidimensional arrays in NumPy are powerful tools for handling data in various dimensions, such as 2D matrices, 3D cubes, or even higher-dimensional structures. Below are examples demonstrating how to create and manipulate multidimensional arrays using NumPy.\n",
        "   * Creating a 2D Array: A 2D array is essentially a matrix with rows and columns. Here's how to create one:\n",
        "\n"
      ],
      "metadata": {
        "id": "907vIeUqSk1p"
      }
    },
    {
      "cell_type": "code",
      "source": [
        "import numpy as np\n",
        "\n",
        "# Creating a 2D array\n",
        "array_2d = np.array([[1, 2, 3], [4, 5, 6]])\n",
        "print(array_2d)"
      ],
      "metadata": {
        "colab": {
          "base_uri": "https://localhost:8080/"
        },
        "id": "oFalZoI6bSHx",
        "outputId": "c5bd643a-2761-404c-f444-d818dac74576"
      },
      "execution_count": null,
      "outputs": [
        {
          "output_type": "stream",
          "name": "stdout",
          "text": [
            "[[1 2 3]\n",
            " [4 5 6]]\n"
          ]
        }
      ]
    },
    {
      "cell_type": "markdown",
      "source": [
        "* Creating a 3D Array: A 3D array is an array of 2D arrays, often visualized as a cube."
      ],
      "metadata": {
        "id": "4gssR1oqbWLd"
      }
    },
    {
      "cell_type": "code",
      "source": [
        "# Creating a 3D array\n",
        "array_3d = np.array([[[1, 2], [3, 4]], [[5, 6], [7, 8]]])\n",
        "print(array_3d)"
      ],
      "metadata": {
        "colab": {
          "base_uri": "https://localhost:8080/"
        },
        "id": "yrM2qQGgbb2M",
        "outputId": "2361977b-a00f-4872-eb6a-89d860263292"
      },
      "execution_count": null,
      "outputs": [
        {
          "output_type": "stream",
          "name": "stdout",
          "text": [
            "[[[1 2]\n",
            "  [3 4]]\n",
            "\n",
            " [[5 6]\n",
            "  [7 8]]]\n"
          ]
        }
      ]
    },
    {
      "cell_type": "markdown",
      "source": [
        "* Reshaping Arrays:You can reshape a 1D array into a multidimensional array using the reshape() method."
      ],
      "metadata": {
        "id": "X9YLScKZbgcd"
      }
    },
    {
      "cell_type": "code",
      "source": [
        "# Reshaping a 1D array into a 2D array\n",
        "array_reshaped = np.arange(12).reshape(3, 4)\n",
        "print(array_reshaped)"
      ],
      "metadata": {
        "colab": {
          "base_uri": "https://localhost:8080/"
        },
        "id": "RoQYHNy2brIk",
        "outputId": "7a086790-b911-4f95-cde1-640e79ef552d"
      },
      "execution_count": null,
      "outputs": [
        {
          "output_type": "stream",
          "name": "stdout",
          "text": [
            "[[ 0  1  2  3]\n",
            " [ 4  5  6  7]\n",
            " [ 8  9 10 11]]\n"
          ]
        }
      ]
    },
    {
      "cell_type": "markdown",
      "source": [
        "* Indexing and Slicing Multidimensional Arrays:You can access specific elements or slices of a multidimensional array."
      ],
      "metadata": {
        "id": "SETc60tlbyJi"
      }
    },
    {
      "cell_type": "code",
      "source": [
        "# Accessing elements and slices\n",
        "print(array_reshaped[1, 2]) # Element at row 1, column 2\n",
        "print(array_reshaped[:, 1]) # All rows, column 1"
      ],
      "metadata": {
        "colab": {
          "base_uri": "https://localhost:8080/"
        },
        "id": "WD1_BRklbxfy",
        "outputId": "6a8e3285-02fa-4433-8a46-3e14fbac97d6"
      },
      "execution_count": null,
      "outputs": [
        {
          "output_type": "stream",
          "name": "stdout",
          "text": [
            "6\n",
            "[1 5 9]\n"
          ]
        }
      ]
    },
    {
      "cell_type": "markdown",
      "source": [
        "* Higher-Dimensional Arrays:NumPy also supports 4D arrays and beyond. Here's an example of a 4D array:"
      ],
      "metadata": {
        "id": "9UNRSVL9cB5E"
      }
    },
    {
      "cell_type": "code",
      "source": [
        "# Creating a 4D array\n",
        "array_4d = np.array([[[[1, 2], [3, 4]]], [[[5, 6], [7, 8]]]])\n",
        "print(array_4d)"
      ],
      "metadata": {
        "colab": {
          "base_uri": "https://localhost:8080/"
        },
        "id": "3oUrYfy9cEif",
        "outputId": "617faf59-e8d3-4de7-f15c-242d0d754ee4"
      },
      "execution_count": null,
      "outputs": [
        {
          "output_type": "stream",
          "name": "stdout",
          "text": [
            "[[[[1 2]\n",
            "   [3 4]]]\n",
            "\n",
            "\n",
            " [[[5 6]\n",
            "   [7 8]]]]\n"
          ]
        }
      ]
    },
    {
      "cell_type": "markdown",
      "source": [
        "* Built-in Functions for Multidimensional Arrays:NumPy provides several functions to create arrays efficiently:"
      ],
      "metadata": {
        "id": "QILj6JmXcSPn"
      }
    },
    {
      "cell_type": "code",
      "source": [
        "# Creating arrays with specific values\n",
        "ones_array = np.ones((2, 3)) # 2x3 array of ones\n",
        "zeros_array = np.zeros((3, 3)) # 3x3 array of zeros\n",
        "identity_matrix = np.identity(3) # 3x3 identity matrix\n",
        "\n",
        "print(ones_array)\n",
        "print(zeros_array)\n",
        "print(identity_matrix)"
      ],
      "metadata": {
        "colab": {
          "base_uri": "https://localhost:8080/"
        },
        "id": "MNcKjtlucU5N",
        "outputId": "e5bfd5cd-28a7-43e3-90e6-42d65625281c"
      },
      "execution_count": null,
      "outputs": [
        {
          "output_type": "stream",
          "name": "stdout",
          "text": [
            "[[1. 1. 1.]\n",
            " [1. 1. 1.]]\n",
            "[[0. 0. 0.]\n",
            " [0. 0. 0.]\n",
            " [0. 0. 0.]]\n",
            "[[1. 0. 0.]\n",
            " [0. 1. 0.]\n",
            " [0. 0. 1.]]\n"
          ]
        }
      ]
    },
    {
      "cell_type": "markdown",
      "source": [
        "* These examples highlight the versatility of NumPy for handling multidimensional arrays, making it an essential library for scientific computing, data analysis, and machine learning.\n",
        "* Arrays are great data structures used to store homogenous data. the default array is more like a list data structure in python. Numpy is one of the applicable open-sourced free-to-use packages that help in creating and working on arrays faster and in a much more efficient manner. The Numpy package also many other built-in functions to manipulate and reshape multidimensional arrays.\n"
      ],
      "metadata": {
        "id": "8O7Mx0s8cSGl"
      }
    },
    {
      "cell_type": "markdown",
      "source": [
        "**16. What is the role of Bokeh in data visualization?**\n",
        "* Bokeh is a powerful Python library designed for creating interactive and visually appealing data visualizations in modern web browsers. It is particularly useful for building dashboards, plots, and data applications with high interactivity and performance. Bokeh integrates seamlessly with popular Python tools like Pandas and Jupyter Notebooks, making it a versatile choice for data scientists and developers.\n",
        "\n",
        "* Advantages of Bokeh\n",
        "\n",
        "  * Interactive Visualizations: Bokeh supports interactive plots that respond to user actions, such as zooming, panning, and tooltips.\n",
        "\n",
        "  * Web Integration: Visualizations are rendered using HTML and JavaScript, allowing them to be embedded in web applications or exported as standalone HTML files.\n",
        "\n",
        "  * Flexibility: Bokeh provides both high-level interfaces (bokeh.plotting) for quick plotting and low-level interfaces (bokeh.models) for detailed customization.\n",
        "\n",
        "  * Compatibility: It works well with frameworks like Flask and Django, enabling integration into Python-based web applications.\n",
        "* Why Choose Bokeh?\n",
        "   * Bokeh stands out among other visualization libraries for several reasons:\n",
        "   * Interactivity: Bokeh allows for the creation of dynamic plots that enable users to interact with the visualizations directly.\n",
        "   * Integration: Bokeh can effortlessly integrate with web applications and models, making it a suitable choice for web-based dashboards.\n",
        "   * Beautiful output: Bokeh produces aesthetically pleasing visualizations that can easily be customized.\n",
        "* Advanced Features of Bokeh\n",
        "  As you become more comfortable with Bokeh, you’ll want to use some of its advanced features.\n",
        "\n",
        "  * Dashboards: Bokeh makes it easy to create interactive dashboards that can combine multiple plots.\n",
        "  * Customizing Styles: You can customize colors, fonts, sizes, and many other aspects to suit your needs.\n",
        "* Conclusion:\n",
        "   * Bokeh is an impressive and flexible solution for interactive data visualization that caters to the needs of data scientists and analysts alike. In this guide, we explored how to leverage Bokeh for creating various types of visualizations, enhancing them with colors, tooltips, and other features.\n",
        "\n",
        "   * With its ability to handle large datasets and generate interactive plots, Bokeh should be a go-to library for your data visualization needs in Python. Begin your journey with Bokeh today to transform complex data into intuitive visual stories.\n",
        "\n",
        "**17.  Explain the difference between apply() and map() in Pandas**\n",
        "   * Pandas library is extensively used for data manipulation and analysis. map() and apply() methods are methods of Pandas library in Python. The type of Output totally depends on the type of function used as an argument with the given method.\n",
        "   * Pandas apply() method: The apply() method can be applied both to series and Dataframes where a function can be applied to both series and individual elements based on the type of function provided.\n",
        "   * Syntax: s.apply(func, convert_dtype=True, args=())\n",
        "   * Pandas DataFrame apply() Method: This method can be used on both a pandas Dataframe and series. The function passed as an argument typically works on rows/columns.\n",
        "   * The map() method only works on a pandas series where the type of operation to be applied depends on the argument passed as a function, dictionary, or list. This method is generally used to map values from two series having one column the same.\n",
        "   * Difference between map, applymap and apply in Pandas:\n",
        "   * map():\n",
        "     *   Defined only in Series\n",
        "     * Accepts dictionary, Series, or callable\n",
        "     * Series.map() Operate on one element at time\n",
        "     * Missing values will be recorded as NaN in the output.\n",
        "   * apply():\n",
        "     * Defined in both Series and DataFrame\n",
        "     * Accept callables only\n",
        "     * operates on entire rows or columns at a time for Dataframe, and one at a time for Series.apply\n",
        "     * Suited to more complex operations and aggregation.\n",
        "\n",
        "**18. What are some advanced features of NumPy?**\n",
        " *  NumPy is at the base of Python’s scientific stack of tools. Its purpose to implement efficient operations on many items in a block of memory. Understanding how it works in detail helps in making efficient use of its flexibility, taking useful shortcuts.\n",
        " * NumPy stands for Numerical Python. It is one of the most important foundational packages for numerical computing & data analysis in Python. Most computational packages providing scientific functionality use NumPy’s array objects as the lingua franca for data exchange.\n",
        "* Feature of NumPy:\n",
        "* Here are some features of Numpy that why Numpy is famous for data analysis and scientific computing\n",
        "\n",
        "  * It is a powerful N-dimensional array object \"ndarray\".\n",
        "  * Numpy offers a wide range of collections of Mathematical Functions.\n",
        "  * It easily Integrates with low-level languages such as C/C++ and Fortran Also.\n",
        "  * It offers a comprehensive range of broadcasting functions for dealing with arrays of different dimensions.\n",
        "* Applications of NumPy:\n",
        " * NumPy (short for Numerical Python) is a popular library in Python that is widely used for scientific computing, data analysis, and machine learning. NumPy provides powerful tools for working with arrays, matrices, and mathematical functions, which makes it ideal for solving complex problems in many fields. Here are 15 real life  applications of NumPy , with examples in detail:\n",
        "\n",
        "   * Data Analysis: NumPy is widely used in data analysis applications, where it provides powerful tools for processing and manipulating large datasets. For example, NumPy can be used to calculate statistical measures such as mean, median, and standard deviation.\n",
        "\n",
        "   * Finance: NumPy is commonly used in finance applications, where it is used to calculate financial indicators such as interest rates, bond yields, and stock prices. For example, NumPy can be used to calculate the returns of a portfolio of stocks.\n",
        "\n",
        "   * Image Processing: NumPy is widely used in image processing applications, where it provides tools for processing and manipulating images. For example, NumPy can be used to apply filters to images, such as blurring or sharpening.\n",
        "\n",
        "   * Machine Learning: NumPy is widely used in machine learning applications, where it provides tools for working with arrays and matrices, which are commonly used to represent datasets. For example, NumPy can be used to perform matrix operations in machine learning algorithms.\n",
        "\n",
        "   * Natural Language Processing (NLP): NumPy is commonly used in NLP applications, where it is used to represent text data as arrays or matrices. For example, NumPy can be used to represent the frequency of words in a corpus of text.\n",
        "\n",
        "   * Signal Processing: NumPy is widely used in signal processing applications, where it provides tools for processing and manipulating signals, such as audio signals or sensor data. For example, NumPy can be used to perform Fourier transforms on signals.\n",
        "\n",
        "   * Astronomy: NumPy is commonly used in astronomy applications, where it is used to process and manipulate astronomical data, such as telescope images or spectra. For example, NumPy can be used to process images from a telescope to remove noise and improve resolution.\n",
        "\n",
        "   * Physics: NumPy is widely used in physics applications, where it is used to perform mathematical calculations and simulations. For example, NumPy can be used to simulate physical systems, such as the behavior of a pendulum or the motion of a planet.\n",
        "\n",
        "   * Climate Science: NumPy is commonly used in climate science applications, where it is used to process and manipulate climate data, such as temperature or rainfall data. For example, NumPy can be used to calculate the average temperature over a region or time period.\n",
        "\n",
        "   * Robotics: NumPy is widely used in robotics applications, where it is used to perform mathematical calculations and simulations. For example, NumPy can be used to simulate the behavior of a robotic arm or the motion of a robot in a 3D environment.\n",
        "\n",
        "   * Chemistry: NumPy is commonly used in chemistry applications, where it is used to perform mathematical calculations and simulations. For example, NumPy can be used to simulate the behavior of molecules or to calculate the energy of a chemical reaction.\n",
        "\n",
        "   * Biology: NumPy is widely used in biology applications, where it is used to process and analyze biological data, such as DNA sequences or protein structures. For example, NumPy can be used to compare DNA sequences to identify mutations or to analyze the structure of proteins.\n",
        "\n",
        "   * Engineering: NumPy is commonly used in engineering applications, where it is used to perform mathematical calculations and simulations. For example, NumPy can be used to simulate the behavior of a mechanical system or to analyze the stresses in a structure.\n",
        "\n",
        "   * Neuroscience: NumPy is widely used in neuroscience applications, where it is used to process and analyze brain data, such as EEG signals or MRI\n",
        "\n",
        "\n",
        "* Conclusion:\n",
        "In Conclusion, NumPy arrays can be used for math operations, data loading and storing, and array indexing. We covered all array manipulation, import/export, and statistical techniques that are crucial. Apart from that, this Numpy Cheat Sheet is thoughtfully organized and categorized, making it easy for developers to quickly find the functions they need for specific use cases. Whether it's sorting and filtering array data, or creating and manipulating an array it covers at all. By utilizing this resource, data analysts can enhance their productivity and efficiency in working with Numpy, ultimately leading to smoother and more successful data analysis projects.\n",
        "\n",
        "**19.  How does Pandas simplify time series analysis?**\n",
        "   *  Pandas provides powerful tools for working with time series data, allowing you to analyze, manipulate, and resample your data efficiently. Time series manipulation methods in Pandas are useful for analyzing and transforming data across different frequencies, filling gaps, and resampling to get insights.\n",
        "  Although the time series is also available in the Scikit-learn library, data science professionals use the Pandas library as it has compiled more features to work on the DateTime series. We can include the date and time for every record and can fetch the records of DataFrame.  We can find out the data within a certain range of dates and times by using the DateTime module of Pandas library.\n",
        "\n",
        "**20. What is the role of a pivot table in Pandas?**\n",
        "   * A pivot table in Pandas is a powerful tool for summarizing and analyzing data, allowing users to reorganize and aggregate data in a flexible and intuitive way.\n",
        "   * A pivot table is a data analysis tool that allows you to take columns of raw data from a Pandas DataFrame, summarize them, and analyze the summary data to reveal insights. It enables you to perform common aggregate statistical calculations such as sums, counts, averages, and more, making it easier to identify trends and patterns in your data.\n",
        "   * Key Features of Pivot Tables in Pandas:\n",
        "     * Data Aggregation: Pivot tables allow you to aggregate data based on specified columns, which can help in summarizing large datasets into more manageable forms. You can use various aggregation functions like mean, sum, count, min, and max.\n",
        "      * Multi-dimensional Analysis: You can create multi-dimensional pivot tables by specifying multiple index and column parameters, allowing for a more detailed analysis of the data.\n",
        "      * Flexibility: The pivot_table() function in Pandas provides flexibility in how data is displayed and aggregated. You can customize the output by selecting which columns to aggregate and how to handle missing values.\n",
        "      * Hierarchical Indexing: Pivot tables can utilize hierarchical indexing (MultiIndex), which allows for more complex data structures and easier data manipulation.\n",
        "   * How to Create a Pivot Table in Pandas:\n",
        "     * To create a pivot table in Pandas, you can use the pivot_table() function. Here’s a basic syntax overview:\n",
        "     * pivot_table = pd.pivot_table(data, values='value_column', index='index_column', columns='column_column', aggfunc='mean')\n",
        "     * data: The DataFrame you want to create a pivot table from.\n",
        "     * values: The column(s) to aggregate.\n",
        "     * index: The column(s) to group by on the rows.\n",
        "     * columns: The column(s) to group by on the columns.\n",
        "     * aggfunc: The function to use for aggregation (e.g., mean, sum).\n",
        "\n",
        " * Example:\n",
        "For instance, if you have sales data with columns for Date, City, and Sales, you can create a pivot table to summarize total sales by city and date, providing a clear view of sales performance across different locations and time periods.\n",
        "\n",
        " * In summary, pivot tables in Pandas are essential for data analysis, enabling users to summarize, reorganize, and gain insights from their data efficiently. They are widely used in data science and analytics for their ability to simplify complex datasets into understandable formats.\n",
        "\n",
        "**21. Why is NumPy’s array slicing faster than Python’s list slicing?**\n",
        "   * NumPy's array slicing is significantly faster than Python's list slicing due to differences in memory layout, data type handling, and the underlying implementation of operations.\n",
        "\n",
        "  * Memory Layout: NumPy arrays store data in contiguous memory blocks, which allows for efficient access and manipulation. This is known as locality of reference. In contrast, Python lists are collections of pointers to objects, which are stored in non-contiguous memory locations. Accessing elements in a list requires dereferencing these pointers, adding overhead.\n",
        "  For example:\n",
        "  A NumPy array directly accesses the data in memory.\n",
        "  A Python list must traverse pointers to access the actual data.\n",
        "  This contiguous memory layout in NumPy enables faster slicing and operations, as the data can be processed in bulk without additional pointer lookups.\n",
        "\n",
        "  * Homogeneous Data Types: NumPy arrays are homogeneous, meaning all elements share the same data type. This allows NumPy to use fixed-size memory blocks and optimized low-level operations. Python lists, on the other hand, are heterogeneous, meaning they can store elements of different types. This flexibility comes at the cost of performance, as additional type checks and memory management are required during slicing.\n",
        "\n",
        " * Underlying Implementation: NumPy is implemented in C, and its operations are highly optimized for performance. When slicing a NumPy array, the operation is performed at the C level, bypassing Python's runtime overhead. Python lists, however, rely on Python's interpreted runtime, which is inherently slower.\n",
        "\n",
        " * For Example:\n",
        "\n",
        "\n"
      ],
      "metadata": {
        "id": "U7ZFOjLy3wYd"
      }
    },
    {
      "cell_type": "code",
      "source": [
        "import numpy as np\n",
        "import time\n",
        "\n",
        "# NumPy slicing\n",
        "array = np.arange(1_000_000)\n",
        "start = time.time()\n",
        "sliced_array = array[100:200_000]\n",
        "print(\"NumPy slicing time:\", time.time() - start)\n",
        "\n",
        "# Python list slicing\n",
        "py_list = list(range(1_000_000))\n",
        "start = time.time()\n",
        "sliced_list = py_list[100:200_000]\n",
        "print(\"Python list slicing time:\", time.time() - start)"
      ],
      "metadata": {
        "colab": {
          "base_uri": "https://localhost:8080/"
        },
        "id": "UUuNxkeLWbfJ",
        "outputId": "93911f0e-98da-481c-e536-68e8057c2215"
      },
      "execution_count": null,
      "outputs": [
        {
          "output_type": "stream",
          "name": "stdout",
          "text": [
            "NumPy slicing time: 0.00010538101196289062\n",
            "Python list slicing time: 0.0018186569213867188\n"
          ]
        }
      ]
    },
    {
      "cell_type": "markdown",
      "source": [
        "* This demonstrates the efficiency of NumPy's slicing due to its optimized implementation.\n",
        "\n",
        "* Vectorized Operations: NumPy supports vectorized operations, allowing entire slices to be processed in parallel using SIMD (Single Instruction, Multiple Data) techniques. Python lists do not support such optimizations, as operations are performed element by element in Python loops.\n",
        "\n",
        "* Practical Implications: NumPy's slicing is ideal for numerical and scientific computations where large datasets are involved. It is particularly advantageous in tasks like matrix operations, image processing, and machine learning, where performance is critical.\n",
        "\n",
        "**22. What are some common use cases for Seaborn?**\n",
        "   * Seaborn is a Python library built on top of Matplotlib, designed for creating statistical data visualizations with ease and aesthetic appeal. It integrates seamlessly with Pandas DataFrames, making it a popular choice for data scientists and analysts. Below are some of its common use cases:\n",
        "  *  Visualizing Data Distributions:\n",
        "\n",
        "     * Seaborn provides tools to explore and understand data distributions effectively:\n",
        "\n",
        "     * Histograms and KDE plots for visualizing the distribution of continuous variables.\n",
        "\n",
        "     * Violin plots and box plots for comparing distributions across categories.\n",
        "\n",
        "     * Example:"
      ],
      "metadata": {
        "id": "7DfE2tfIWfPQ"
      }
    },
    {
      "cell_type": "code",
      "source": [
        "import seaborn as sns\n",
        "sns.histplot(data=df, x=\"column_name\", kde=True)"
      ],
      "metadata": {
        "id": "n90rA2XDXnsg"
      },
      "execution_count": null,
      "outputs": []
    },
    {
      "cell_type": "markdown",
      "source": [
        "* Analyzing Relationships Between Variables:\n",
        "\n",
        "   * Seaborn excels at visualizing relationships between variables:\n",
        "\n",
        "    * Scatter plots for identifying correlations or patterns between two numerical variables.\n",
        "\n",
        "    * Pair plots for exploring relationships across multiple variables in a dataset.\n",
        "\n",
        "    * Regression plots for visualizing linear relationships.\n",
        "\n",
        "    * Example:"
      ],
      "metadata": {
        "id": "7ptOsJsxXsya"
      }
    },
    {
      "cell_type": "code",
      "source": [
        "sns.scatterplot(data=df, x=\"var1\", y=\"var2\", hue=\"category\")"
      ],
      "metadata": {
        "id": "wx5CkouIX6Qu"
      },
      "execution_count": null,
      "outputs": []
    },
    {
      "cell_type": "markdown",
      "source": [
        "*  Categorical Data Visualization:\n",
        "\n",
        "   * Seaborn simplifies the visualization of categorical data:\n",
        "\n",
        "   * Bar plots for comparing averages or sums across categories.\n",
        "\n",
        "   * Count plots for visualizing the frequency of categories.\n",
        "\n",
        "   * Swarm plots and strip plots for showing individual data points.\n",
        "\n",
        "   * Example:\n",
        "\n"
      ],
      "metadata": {
        "id": "CZICp4u1X9lK"
      }
    },
    {
      "cell_type": "code",
      "source": [
        "sns.barplot(data=df, x=\"category\", y=\"value\")"
      ],
      "metadata": {
        "id": "_u2HlX9iYMYY"
      },
      "execution_count": null,
      "outputs": []
    },
    {
      "cell_type": "markdown",
      "source": [
        "* Heatmaps for Correlation and Matrix Data:\n",
        "\n",
        "  * Heatmaps are widely used for visualizing correlations or matrix-like data:\n",
        "\n",
        "  * Correlation heatmaps to identify relationships between variables.\n",
        "\n",
        "  * Clustered heatmaps for hierarchical clustering.\n",
        "\n",
        "  * Example:"
      ],
      "metadata": {
        "id": "QyfcLGBeYQIZ"
      }
    },
    {
      "cell_type": "code",
      "source": [
        "sns.heatmap(data=df.corr(), annot=True, cmap=\"coolwarm\")"
      ],
      "metadata": {
        "id": "5lGbUSQhYV8E"
      },
      "execution_count": null,
      "outputs": []
    },
    {
      "cell_type": "markdown",
      "source": [
        "* Time Series and Trends:\n",
        "\n",
        "  * Seaborn supports visualizing trends over time:\n",
        "\n",
        "  * Line plots for time series data.\n",
        "\n",
        "  * Adding markers and confidence intervals to highlight trends.\n",
        "\n",
        "  * Example:"
      ],
      "metadata": {
        "id": "VbIY-ybYYbeu"
      }
    },
    {
      "cell_type": "code",
      "source": [
        "sns.lineplot(data=df, x=\"time\", y=\"value\", hue=\"category\")"
      ],
      "metadata": {
        "id": "xqEf2TNcYf99"
      },
      "execution_count": null,
      "outputs": []
    },
    {
      "cell_type": "markdown",
      "source": [
        "* Faceted Plots for Subgroup Analysis:\n",
        "\n",
        "  * Seaborn's FacetGrid and figure-level functions like relplot() allow for creating multiple subplots:\n",
        "\n",
        "  * Useful for comparing patterns across different subsets of data.\n",
        "\n",
        "  * Example:"
      ],
      "metadata": {
        "id": "0AUBdSlbYlOT"
      }
    },
    {
      "cell_type": "code",
      "source": [
        "g = sns.FacetGrid(data=df, col=\"category\")\n",
        "g.map(sns.scatterplot, \"var1\", \"var2\")"
      ],
      "metadata": {
        "id": "W5l8wC3tYpkw"
      },
      "execution_count": null,
      "outputs": []
    },
    {
      "cell_type": "markdown",
      "source": [
        "* Customizing Visualizations:\n",
        "\n",
        "  * Seaborn provides extensive customization options:\n",
        "\n",
        "  * Changing themes with sns.set_style() (e.g., \"darkgrid\", \"whitegrid\").\n",
        "\n",
        "  * Customizing color palettes with sns.set_palette().\n",
        "\n",
        "   * Adding titles, labels, and legends for better readability.\n",
        "\n",
        "* Seaborn's ability to handle complex datasets and produce visually appealing plots with minimal code makes it an essential tool for data visualization in Python."
      ],
      "metadata": {
        "id": "GR4CcqQxYtIK"
      }
    },
    {
      "cell_type": "markdown",
      "source": [
        "# **Practical Questions**"
      ],
      "metadata": {
        "id": "ne04-V2R0P3z"
      }
    },
    {
      "cell_type": "code",
      "source": [
        "#1. How do you create a 2D NumPy array and calculate the sum of each row?\n",
        "import numpy as np\n",
        "\n",
        "# Step 1: Create a 2D NumPy array\n",
        "array_2d = np.array([[1, 2, 3],\n",
        "                     [4, 5, 6],\n",
        "                     [7, 8, 9]])\n",
        "\n",
        "# Step 2: Calculate the sum of each row\n",
        "row_sums = np.sum(array_2d, axis=1)\n",
        "\n",
        "print(\"2D Array:\")\n",
        "print(array_2d)\n",
        "print(\"Sum of each row:\")\n",
        "print(row_sums)"
      ],
      "metadata": {
        "colab": {
          "base_uri": "https://localhost:8080/"
        },
        "id": "2k9onmLP0XZg",
        "outputId": "9060173b-5ae2-4e9b-e8b6-57e4d5f707ec"
      },
      "execution_count": null,
      "outputs": [
        {
          "output_type": "stream",
          "name": "stdout",
          "text": [
            "2D Array:\n",
            "[[1 2 3]\n",
            " [4 5 6]\n",
            " [7 8 9]]\n",
            "Sum of each row:\n",
            "[ 6 15 24]\n"
          ]
        }
      ]
    },
    {
      "cell_type": "code",
      "source": [
        "#2. Write a Pandas script to find the mean of a specific column in a DataFrame.\n",
        "import pandas as pd\n",
        "\n",
        "# Example DataFrame\n",
        "data = {\n",
        "    'A': [10, 20, 30],\n",
        "    'B': [15, 25, 35],\n",
        "    'C': [20, 30, 40]\n",
        "}\n",
        "df = pd.DataFrame(data)\n",
        "\n",
        "# Calculate the mean of a specific column (e.g., column 'B')\n",
        "mean_value = df['B'].mean()\n",
        "\n",
        "print(f\"The mean of column 'B' is: {mean_value}\")"
      ],
      "metadata": {
        "colab": {
          "base_uri": "https://localhost:8080/"
        },
        "id": "RvSSeVpJ08YA",
        "outputId": "b50e8ac1-f92f-4632-f593-d5307839e016"
      },
      "execution_count": null,
      "outputs": [
        {
          "output_type": "stream",
          "name": "stdout",
          "text": [
            "The mean of column 'B' is: 25.0\n"
          ]
        }
      ]
    },
    {
      "cell_type": "code",
      "source": [
        "#3.  Create a scatter plot using Matplotlib.\n",
        "import matplotlib.pyplot as plt\n",
        "\n",
        "# Data for the scatter plot\n",
        "x = [1, 2, 3, 4, 5]\n",
        "y = [2, 4, 1, 8, 7]\n",
        "\n",
        "# Creating the scatter plot\n",
        "plt.scatter(x, y, color='blue', label='Data Points')\n",
        "\n",
        "# Adding title and labels\n",
        "plt.title('Simple Scatter Plot')\n",
        "plt.xlabel('X-axis')\n",
        "plt.ylabel('Y-axis')\n",
        "\n",
        "# Adding a legend\n",
        "plt.legend()\n",
        "\n",
        "# Display the plot\n",
        "plt.show()"
      ],
      "metadata": {
        "colab": {
          "base_uri": "https://localhost:8080/",
          "height": 472
        },
        "id": "RFy3SOR72BC2",
        "outputId": "31000af6-5480-457b-c97d-becaf7c7f1eb"
      },
      "execution_count": null,
      "outputs": [
        {
          "output_type": "display_data",
          "data": {
            "text/plain": [
              "<Figure size 640x480 with 1 Axes>"
            ],
            "image/png": "[encoded data removed]"
          },
          "metadata": {}
        }
      ]
    },
    {
      "cell_type": "code",
      "source": [
        "#4. How do you calculate the correlation matrix using Seaborn and visualize it with a heatmap?\n",
        "import pandas as pd\n",
        "import seaborn as sns\n",
        "import matplotlib.pyplot as plt\n",
        "\n",
        "# Sample DataFrame\n",
        "data = {\n",
        "    'A': [1, 2, 3, 4, 5],\n",
        "    'B': [5, 4, 3, 2, 1],\n",
        "    'C': [2, 3, 4, 5, 6]\n",
        "}\n",
        "df = pd.DataFrame(data)\n",
        "\n",
        "# Step 1: Calculate the correlation matrix\n",
        "correlation_matrix = df.corr()\n",
        "\n",
        "# Step 2: Create a heatmap using Seaborn\n",
        "plt.figure(figsize=(8, 6))\n",
        "sns.heatmap(correlation_matrix, annot=True, cmap='coolwarm', fmt=\".2f\")\n",
        "plt.title('Correlation Matrix Heatmap')\n",
        "plt.show()"
      ],
      "metadata": {
        "colab": {
          "base_uri": "https://localhost:8080/",
          "height": 545
        },
        "id": "wXmO53Rh7Ynm",
        "outputId": "31ed00c7-8e40-4139-db2d-c1b088f83186"
      },
      "execution_count": null,
      "outputs": [
        {
          "output_type": "display_data",
          "data": {
            "text/plain": [
              "<Figure size 800x600 with 2 Axes>"
            ],
            "image/png": "[encoded data removed]"
          },
          "metadata": {}
        }
      ]
    },
    {
      "cell_type": "code",
      "source": [
        "#5.  Generate a bar plot using Plotly.\n",
        "import plotly.express as px\n",
        "import pandas as pd\n",
        "\n",
        "# Sample Data\n",
        "categories = [\"Apples\",\"Oranges\",\"Bananas\",\"Grapes\"]\n",
        "values = [4,6,2,8]\n",
        "#Create a basic vertical bar plot\n",
        "fig = px.bar(x=categories, y=values,title=\"Fruit Inventory\")\n",
        "#Show the plot\n",
        "fig.show()\n",
        "#To create a horizontal bar plot, we use orientation parameter\n",
        "fig_horizontal = px.bar(x=categories, y=values, orientation='h',title=\"Fruit Inventory\")\n",
        "fig_horizontal.show()"
      ],
      "metadata": {
        "id": "owGEU-zF7zv0",
        "colab": {
          "base_uri": "https://localhost:8080/",
          "height": 1000
        },
        "outputId": "ce48ff52-6532-4c0a-dbb3-2b4eb7b5477e"
      },
      "execution_count": null,
      "outputs": [
        {
          "output_type": "display_data",
          "data": {
            "text/html": [
              "<html>\n",
              "<head><meta charset=\"utf-8\" /></head>\n",
              "<body>\n",
              "    <div>            <script src=\"https://cdnjs.cloudflare.com/ajax/libs/mathjax/2.7.5/MathJax.js?config=TeX-AMS-MML_SVG\"></script><script type=\"text/javascript\">if (window.MathJax && window.MathJax.Hub && window.MathJax.Hub.Config) {window.MathJax.Hub.Config({SVG: {font: \"STIX-Web\"}});}</script>                <script type=\"text/javascript\">window.PlotlyConfig = {MathJaxConfig: 'local'};</script>\n",
              "        <script charset=\"utf-8\" src=\"https://cdn.plot.ly/plotly-2.35.2.min.js\"></script>                <div id=\"3acf8cfb-bbeb-4a85-9a0a-df6c033ff3d7\" class=\"plotly-graph-div\" style=\"height:525px; width:100%;\"></div>            <script type=\"text/javascript\">                                    window.PLOTLYENV=window.PLOTLYENV || {};                                    if (document.getElementById(\"3acf8cfb-bbeb-4a85-9a0a-df6c033ff3d7\")) {                    Plotly.newPlot(                        \"3acf8cfb-bbeb-4a85-9a0a-df6c033ff3d7\",                        [{\"alignmentgroup\":\"True\",\"hovertemplate\":\"x=%{x}\\u003cbr\\u003ey=%{y}\\u003cextra\\u003e\\u003c\\u002fextra\\u003e\",\"legendgroup\":\"\",\"marker\":{\"color\":\"#636efa\",\"pattern\":{\"shape\":\"\"}},\"name\":\"\",\"offsetgroup\":\"\",\"orientation\":\"v\",\"showlegend\":false,\"textposition\":\"auto\",\"x\":[\"Apples\",\"Oranges\",\"Bananas\",\"Grapes\"],\"xaxis\":\"x\",\"y\":[4,6,2,8],\"yaxis\":\"y\",\"type\":\"bar\"}],                        {\"template\":{\"data\":{\"histogram2dcontour\":[{\"type\":\"histogram2dcontour\",\"colorbar\":{\"outlinewidth\":0,\"ticks\":\"\"},\"colorscale\":[[0.0,\"#0d0887\"],[0.1111111111111111,\"#46039f\"],[0.2222222222222222,\"#7201a8\"],[0.3333333333333333,\"#9c179e\"],[0.4444444444444444,\"#bd3786\"],[0.5555555555555556,\"#d8576b\"],[0.6666666666666666,\"#ed7953\"],[0.7777777777777778,\"#fb9f3a\"],[0.8888888888888888,\"#fdca26\"],[1.0,\"#f0f921\"]]}],\"choropleth\":[{\"type\":\"choropleth\",\"colorbar\":{\"outlinewidth\":0,\"ticks\":\"\"}}],\"histogram2d\":[{\"type\":\"histogram2d\",\"colorbar\":{\"outlinewidth\":0,\"ticks\":\"\"},\"colorscale\":[[0.0,\"#0d0887\"],[0.1111111111111111,\"#46039f\"],[0.2222222222222222,\"#7201a8\"],[0.3333333333333333,\"#9c179e\"],[0.4444444444444444,\"#bd3786\"],[0.5555555555555556,\"#d8576b\"],[0.6666666666666666,\"#ed7953\"],[0.7777777777777778,\"#fb9f3a\"],[0.8888888888888888,\"#fdca26\"],[1.0,\"#f0f921\"]]}],\"heatmap\":[{\"type\":\"heatmap\",\"colorbar\":{\"outlinewidth\":0,\"ticks\":\"\"},\"colorscale\":[[0.0,\"#0d0887\"],[0.1111111111111111,\"#46039f\"],[0.2222222222222222,\"#7201a8\"],[0.3333333333333333,\"#9c179e\"],[0.4444444444444444,\"#bd3786\"],[0.5555555555555556,\"#d8576b\"],[0.6666666666666666,\"#ed7953\"],[0.7777777777777778,\"#fb9f3a\"],[0.8888888888888888,\"#fdca26\"],[1.0,\"#f0f921\"]]}],\"heatmapgl\":[{\"type\":\"heatmapgl\",\"colorbar\":{\"outlinewidth\":0,\"ticks\":\"\"},\"colorscale\":[[0.0,\"#0d0887\"],[0.1111111111111111,\"#46039f\"],[0.2222222222222222,\"#7201a8\"],[0.3333333333333333,\"#9c179e\"],[0.4444444444444444,\"#bd3786\"],[0.5555555555555556,\"#d8576b\"],[0.6666666666666666,\"#ed7953\"],[0.7777777777777778,\"#fb9f3a\"],[0.8888888888888888,\"#fdca26\"],[1.0,\"#f0f921\"]]}],\"contourcarpet\":[{\"type\":\"contourcarpet\",\"colorbar\":{\"outlinewidth\":0,\"ticks\":\"\"}}],\"contour\":[{\"type\":\"contour\",\"colorbar\":{\"outlinewidth\":0,\"ticks\":\"\"},\"colorscale\":[[0.0,\"#0d0887\"],[0.1111111111111111,\"#46039f\"],[0.2222222222222222,\"#7201a8\"],[0.3333333333333333,\"#9c179e\"],[0.4444444444444444,\"#bd3786\"],[0.5555555555555556,\"#d8576b\"],[0.6666666666666666,\"#ed7953\"],[0.7777777777777778,\"#fb9f3a\"],[0.8888888888888888,\"#fdca26\"],[1.0,\"#f0f921\"]]}],\"surface\":[{\"type\":\"surface\",\"colorbar\":{\"outlinewidth\":0,\"ticks\":\"\"},\"colorscale\":[[0.0,\"#0d0887\"],[0.1111111111111111,\"#46039f\"],[0.2222222222222222,\"#7201a8\"],[0.3333333333333333,\"#9c179e\"],[0.4444444444444444,\"#bd3786\"],[0.5555555555555556,\"#d8576b\"],[0.6666666666666666,\"#ed7953\"],[0.7777777777777778,\"#fb9f3a\"],[0.8888888888888888,\"#fdca26\"],[1.0,\"#f0f921\"]]}],\"mesh3d\":[{\"type\":\"mesh3d\",\"colorbar\":{\"outlinewidth\":0,\"ticks\":\"\"}}],\"scatter\":[{\"fillpattern\":{\"fillmode\":\"overlay\",\"size\":10,\"solidity\":0.2},\"type\":\"scatter\"}],\"parcoords\":[{\"type\":\"parcoords\",\"line\":{\"colorbar\":{\"outlinewidth\":0,\"ticks\":\"\"}}}],\"scatterpolargl\":[{\"type\":\"scatterpolargl\",\"marker\":{\"colorbar\":{\"outlinewidth\":0,\"ticks\":\"\"}}}],\"bar\":[{\"error_x\":{\"color\":\"#2a3f5f\"},\"error_y\":{\"color\":\"#2a3f5f\"},\"marker\":{\"line\":{\"color\":\"#E5ECF6\",\"width\":0.5},\"pattern\":{\"fillmode\":\"overlay\",\"size\":10,\"solidity\":0.2}},\"type\":\"bar\"}],\"scattergeo\":[{\"type\":\"scattergeo\",\"marker\":{\"colorbar\":{\"outlinewidth\":0,\"ticks\":\"\"}}}],\"scatterpolar\":[{\"type\":\"scatterpolar\",\"marker\":{\"colorbar\":{\"outlinewidth\":0,\"ticks\":\"\"}}}],\"histogram\":[{\"marker\":{\"pattern\":{\"fillmode\":\"overlay\",\"size\":10,\"solidity\":0.2}},\"type\":\"histogram\"}],\"scattergl\":[{\"type\":\"scattergl\",\"marker\":{\"colorbar\":{\"outlinewidth\":0,\"ticks\":\"\"}}}],\"scatter3d\":[{\"type\":\"scatter3d\",\"line\":{\"colorbar\":{\"outlinewidth\":0,\"ticks\":\"\"}},\"marker\":{\"colorbar\":{\"outlinewidth\":0,\"ticks\":\"\"}}}],\"scattermapbox\":[{\"type\":\"scattermapbox\",\"marker\":{\"colorbar\":{\"outlinewidth\":0,\"ticks\":\"\"}}}],\"scatterternary\":[{\"type\":\"scatterternary\",\"marker\":{\"colorbar\":{\"outlinewidth\":0,\"ticks\":\"\"}}}],\"scattercarpet\":[{\"type\":\"scattercarpet\",\"marker\":{\"colorbar\":{\"outlinewidth\":0,\"ticks\":\"\"}}}],\"carpet\":[{\"aaxis\":{\"endlinecolor\":\"#2a3f5f\",\"gridcolor\":\"white\",\"linecolor\":\"white\",\"minorgridcolor\":\"white\",\"startlinecolor\":\"#2a3f5f\"},\"baxis\":{\"endlinecolor\":\"#2a3f5f\",\"gridcolor\":\"white\",\"linecolor\":\"white\",\"minorgridcolor\":\"white\",\"startlinecolor\":\"#2a3f5f\"},\"type\":\"carpet\"}],\"table\":[{\"cells\":{\"fill\":{\"color\":\"#EBF0F8\"},\"line\":{\"color\":\"white\"}},\"header\":{\"fill\":{\"color\":\"#C8D4E3\"},\"line\":{\"color\":\"white\"}},\"type\":\"table\"}],\"barpolar\":[{\"marker\":{\"line\":{\"color\":\"#E5ECF6\",\"width\":0.5},\"pattern\":{\"fillmode\":\"overlay\",\"size\":10,\"solidity\":0.2}},\"type\":\"barpolar\"}],\"pie\":[{\"automargin\":true,\"type\":\"pie\"}]},\"layout\":{\"autotypenumbers\":\"strict\",\"colorway\":[\"#636efa\",\"#EF553B\",\"#00cc96\",\"#ab63fa\",\"#FFA15A\",\"#19d3f3\",\"#FF6692\",\"#B6E880\",\"#FF97FF\",\"#FECB52\"],\"font\":{\"color\":\"#2a3f5f\"},\"hovermode\":\"closest\",\"hoverlabel\":{\"align\":\"left\"},\"paper_bgcolor\":\"white\",\"plot_bgcolor\":\"#E5ECF6\",\"polar\":{\"bgcolor\":\"#E5ECF6\",\"angularaxis\":{\"gridcolor\":\"white\",\"linecolor\":\"white\",\"ticks\":\"\"},\"radialaxis\":{\"gridcolor\":\"white\",\"linecolor\":\"white\",\"ticks\":\"\"}},\"ternary\":{\"bgcolor\":\"#E5ECF6\",\"aaxis\":{\"gridcolor\":\"white\",\"linecolor\":\"white\",\"ticks\":\"\"},\"baxis\":{\"gridcolor\":\"white\",\"linecolor\":\"white\",\"ticks\":\"\"},\"caxis\":{\"gridcolor\":\"white\",\"linecolor\":\"white\",\"ticks\":\"\"}},\"coloraxis\":{\"colorbar\":{\"outlinewidth\":0,\"ticks\":\"\"}},\"colorscale\":{\"sequential\":[[0.0,\"#0d0887\"],[0.1111111111111111,\"#46039f\"],[0.2222222222222222,\"#7201a8\"],[0.3333333333333333,\"#9c179e\"],[0.4444444444444444,\"#bd3786\"],[0.5555555555555556,\"#d8576b\"],[0.6666666666666666,\"#ed7953\"],[0.7777777777777778,\"#fb9f3a\"],[0.8888888888888888,\"#fdca26\"],[1.0,\"#f0f921\"]],\"sequentialminus\":[[0.0,\"#0d0887\"],[0.1111111111111111,\"#46039f\"],[0.2222222222222222,\"#7201a8\"],[0.3333333333333333,\"#9c179e\"],[0.4444444444444444,\"#bd3786\"],[0.5555555555555556,\"#d8576b\"],[0.6666666666666666,\"#ed7953\"],[0.7777777777777778,\"#fb9f3a\"],[0.8888888888888888,\"#fdca26\"],[1.0,\"#f0f921\"]],\"diverging\":[[0,\"#8e0152\"],[0.1,\"#c51b7d\"],[0.2,\"#de77ae\"],[0.3,\"#f1b6da\"],[0.4,\"#fde0ef\"],[0.5,\"#f7f7f7\"],[0.6,\"#e6f5d0\"],[0.7,\"#b8e186\"],[0.8,\"#7fbc41\"],[0.9,\"#4d9221\"],[1,\"#276419\"]]},\"xaxis\":{\"gridcolor\":\"white\",\"linecolor\":\"white\",\"ticks\":\"\",\"title\":{\"standoff\":15},\"zerolinecolor\":\"white\",\"automargin\":true,\"zerolinewidth\":2},\"yaxis\":{\"gridcolor\":\"white\",\"linecolor\":\"white\",\"ticks\":\"\",\"title\":{\"standoff\":15},\"zerolinecolor\":\"white\",\"automargin\":true,\"zerolinewidth\":2},\"scene\":{\"xaxis\":{\"backgroundcolor\":\"#E5ECF6\",\"gridcolor\":\"white\",\"linecolor\":\"white\",\"showbackground\":true,\"ticks\":\"\",\"zerolinecolor\":\"white\",\"gridwidth\":2},\"yaxis\":{\"backgroundcolor\":\"#E5ECF6\",\"gridcolor\":\"white\",\"linecolor\":\"white\",\"showbackground\":true,\"ticks\":\"\",\"zerolinecolor\":\"white\",\"gridwidth\":2},\"zaxis\":{\"backgroundcolor\":\"#E5ECF6\",\"gridcolor\":\"white\",\"linecolor\":\"white\",\"showbackground\":true,\"ticks\":\"\",\"zerolinecolor\":\"white\",\"gridwidth\":2}},\"shapedefaults\":{\"line\":{\"color\":\"#2a3f5f\"}},\"annotationdefaults\":{\"arrowcolor\":\"#2a3f5f\",\"arrowhead\":0,\"arrowwidth\":1},\"geo\":{\"bgcolor\":\"white\",\"landcolor\":\"#E5ECF6\",\"subunitcolor\":\"white\",\"showland\":true,\"showlakes\":true,\"lakecolor\":\"white\"},\"title\":{\"x\":0.05},\"mapbox\":{\"style\":\"light\"}}},\"xaxis\":{\"anchor\":\"y\",\"domain\":[0.0,1.0],\"title\":{\"text\":\"x\"}},\"yaxis\":{\"anchor\":\"x\",\"domain\":[0.0,1.0],\"title\":{\"text\":\"y\"}},\"legend\":{\"tracegroupgap\":0},\"title\":{\"text\":\"Fruit Inventory\"},\"barmode\":\"relative\"},                        {\"responsive\": true}                    ).then(function(){\n",
              "                            \n",
              "var gd = document.getElementById('3acf8cfb-bbeb-4a85-9a0a-df6c033ff3d7');\n",
              "var x = new MutationObserver(function (mutations, observer) {{\n",
              "        var display = window.getComputedStyle(gd).display;\n",
              "        if (!display || display === 'none') {{\n",
              "            console.log([gd, 'removed!']);\n",
              "            Plotly.purge(gd);\n",
              "            observer.disconnect();\n",
              "        }}\n",
              "}});\n",
              "\n",
              "// Listen for the removal of the full notebook cells\n",
              "var notebookContainer = gd.closest('#notebook-container');\n",
              "if (notebookContainer) {{\n",
              "    x.observe(notebookContainer, {childList: true});\n",
              "}}\n",
              "\n",
              "// Listen for the clearing of the current output cell\n",
              "var outputEl = gd.closest('.output');\n",
              "if (outputEl) {{\n",
              "    x.observe(outputEl, {childList: true});\n",
              "}}\n",
              "\n",
              "                        })                };                            </script>        </div>\n",
              "</body>\n",
              "</html>"
            ]
          },
          "metadata": {}
        },
        {
          "output_type": "display_data",
          "data": {
            "text/html": [
              "<html>\n",
              "<head><meta charset=\"utf-8\" /></head>\n",
              "<body>\n",
              "    <div>            <script src=\"https://cdnjs.cloudflare.com/ajax/libs/mathjax/2.7.5/MathJax.js?config=TeX-AMS-MML_SVG\"></script><script type=\"text/javascript\">if (window.MathJax && window.MathJax.Hub && window.MathJax.Hub.Config) {window.MathJax.Hub.Config({SVG: {font: \"STIX-Web\"}});}</script>                <script type=\"text/javascript\">window.PlotlyConfig = {MathJaxConfig: 'local'};</script>\n",
              "        <script charset=\"utf-8\" src=\"https://cdn.plot.ly/plotly-2.35.2.min.js\"></script>                <div id=\"dce72558-39e3-4113-8713-6ea7e27b6a8f\" class=\"plotly-graph-div\" style=\"height:525px; width:100%;\"></div>            <script type=\"text/javascript\">                                    window.PLOTLYENV=window.PLOTLYENV || {};                                    if (document.getElementById(\"dce72558-39e3-4113-8713-6ea7e27b6a8f\")) {                    Plotly.newPlot(                        \"dce72558-39e3-4113-8713-6ea7e27b6a8f\",                        [{\"alignmentgroup\":\"True\",\"hovertemplate\":\"x=%{x}\\u003cbr\\u003ey=%{y}\\u003cextra\\u003e\\u003c\\u002fextra\\u003e\",\"legendgroup\":\"\",\"marker\":{\"color\":\"#636efa\",\"pattern\":{\"shape\":\"\"}},\"name\":\"\",\"offsetgroup\":\"\",\"orientation\":\"h\",\"showlegend\":false,\"textposition\":\"auto\",\"x\":[\"Apples\",\"Oranges\",\"Bananas\",\"Grapes\"],\"xaxis\":\"x\",\"y\":[4,6,2,8],\"yaxis\":\"y\",\"type\":\"bar\"}],                        {\"template\":{\"data\":{\"histogram2dcontour\":[{\"type\":\"histogram2dcontour\",\"colorbar\":{\"outlinewidth\":0,\"ticks\":\"\"},\"colorscale\":[[0.0,\"#0d0887\"],[0.1111111111111111,\"#46039f\"],[0.2222222222222222,\"#7201a8\"],[0.3333333333333333,\"#9c179e\"],[0.4444444444444444,\"#bd3786\"],[0.5555555555555556,\"#d8576b\"],[0.6666666666666666,\"#ed7953\"],[0.7777777777777778,\"#fb9f3a\"],[0.8888888888888888,\"#fdca26\"],[1.0,\"#f0f921\"]]}],\"choropleth\":[{\"type\":\"choropleth\",\"colorbar\":{\"outlinewidth\":0,\"ticks\":\"\"}}],\"histogram2d\":[{\"type\":\"histogram2d\",\"colorbar\":{\"outlinewidth\":0,\"ticks\":\"\"},\"colorscale\":[[0.0,\"#0d0887\"],[0.1111111111111111,\"#46039f\"],[0.2222222222222222,\"#7201a8\"],[0.3333333333333333,\"#9c179e\"],[0.4444444444444444,\"#bd3786\"],[0.5555555555555556,\"#d8576b\"],[0.6666666666666666,\"#ed7953\"],[0.7777777777777778,\"#fb9f3a\"],[0.8888888888888888,\"#fdca26\"],[1.0,\"#f0f921\"]]}],\"heatmap\":[{\"type\":\"heatmap\",\"colorbar\":{\"outlinewidth\":0,\"ticks\":\"\"},\"colorscale\":[[0.0,\"#0d0887\"],[0.1111111111111111,\"#46039f\"],[0.2222222222222222,\"#7201a8\"],[0.3333333333333333,\"#9c179e\"],[0.4444444444444444,\"#bd3786\"],[0.5555555555555556,\"#d8576b\"],[0.6666666666666666,\"#ed7953\"],[0.7777777777777778,\"#fb9f3a\"],[0.8888888888888888,\"#fdca26\"],[1.0,\"#f0f921\"]]}],\"heatmapgl\":[{\"type\":\"heatmapgl\",\"colorbar\":{\"outlinewidth\":0,\"ticks\":\"\"},\"colorscale\":[[0.0,\"#0d0887\"],[0.1111111111111111,\"#46039f\"],[0.2222222222222222,\"#7201a8\"],[0.3333333333333333,\"#9c179e\"],[0.4444444444444444,\"#bd3786\"],[0.5555555555555556,\"#d8576b\"],[0.6666666666666666,\"#ed7953\"],[0.7777777777777778,\"#fb9f3a\"],[0.8888888888888888,\"#fdca26\"],[1.0,\"#f0f921\"]]}],\"contourcarpet\":[{\"type\":\"contourcarpet\",\"colorbar\":{\"outlinewidth\":0,\"ticks\":\"\"}}],\"contour\":[{\"type\":\"contour\",\"colorbar\":{\"outlinewidth\":0,\"ticks\":\"\"},\"colorscale\":[[0.0,\"#0d0887\"],[0.1111111111111111,\"#46039f\"],[0.2222222222222222,\"#7201a8\"],[0.3333333333333333,\"#9c179e\"],[0.4444444444444444,\"#bd3786\"],[0.5555555555555556,\"#d8576b\"],[0.6666666666666666,\"#ed7953\"],[0.7777777777777778,\"#fb9f3a\"],[0.8888888888888888,\"#fdca26\"],[1.0,\"#f0f921\"]]}],\"surface\":[{\"type\":\"surface\",\"colorbar\":{\"outlinewidth\":0,\"ticks\":\"\"},\"colorscale\":[[0.0,\"#0d0887\"],[0.1111111111111111,\"#46039f\"],[0.2222222222222222,\"#7201a8\"],[0.3333333333333333,\"#9c179e\"],[0.4444444444444444,\"#bd3786\"],[0.5555555555555556,\"#d8576b\"],[0.6666666666666666,\"#ed7953\"],[0.7777777777777778,\"#fb9f3a\"],[0.8888888888888888,\"#fdca26\"],[1.0,\"#f0f921\"]]}],\"mesh3d\":[{\"type\":\"mesh3d\",\"colorbar\":{\"outlinewidth\":0,\"ticks\":\"\"}}],\"scatter\":[{\"fillpattern\":{\"fillmode\":\"overlay\",\"size\":10,\"solidity\":0.2},\"type\":\"scatter\"}],\"parcoords\":[{\"type\":\"parcoords\",\"line\":{\"colorbar\":{\"outlinewidth\":0,\"ticks\":\"\"}}}],\"scatterpolargl\":[{\"type\":\"scatterpolargl\",\"marker\":{\"colorbar\":{\"outlinewidth\":0,\"ticks\":\"\"}}}],\"bar\":[{\"error_x\":{\"color\":\"#2a3f5f\"},\"error_y\":{\"color\":\"#2a3f5f\"},\"marker\":{\"line\":{\"color\":\"#E5ECF6\",\"width\":0.5},\"pattern\":{\"fillmode\":\"overlay\",\"size\":10,\"solidity\":0.2}},\"type\":\"bar\"}],\"scattergeo\":[{\"type\":\"scattergeo\",\"marker\":{\"colorbar\":{\"outlinewidth\":0,\"ticks\":\"\"}}}],\"scatterpolar\":[{\"type\":\"scatterpolar\",\"marker\":{\"colorbar\":{\"outlinewidth\":0,\"ticks\":\"\"}}}],\"histogram\":[{\"marker\":{\"pattern\":{\"fillmode\":\"overlay\",\"size\":10,\"solidity\":0.2}},\"type\":\"histogram\"}],\"scattergl\":[{\"type\":\"scattergl\",\"marker\":{\"colorbar\":{\"outlinewidth\":0,\"ticks\":\"\"}}}],\"scatter3d\":[{\"type\":\"scatter3d\",\"line\":{\"colorbar\":{\"outlinewidth\":0,\"ticks\":\"\"}},\"marker\":{\"colorbar\":{\"outlinewidth\":0,\"ticks\":\"\"}}}],\"scattermapbox\":[{\"type\":\"scattermapbox\",\"marker\":{\"colorbar\":{\"outlinewidth\":0,\"ticks\":\"\"}}}],\"scatterternary\":[{\"type\":\"scatterternary\",\"marker\":{\"colorbar\":{\"outlinewidth\":0,\"ticks\":\"\"}}}],\"scattercarpet\":[{\"type\":\"scattercarpet\",\"marker\":{\"colorbar\":{\"outlinewidth\":0,\"ticks\":\"\"}}}],\"carpet\":[{\"aaxis\":{\"endlinecolor\":\"#2a3f5f\",\"gridcolor\":\"white\",\"linecolor\":\"white\",\"minorgridcolor\":\"white\",\"startlinecolor\":\"#2a3f5f\"},\"baxis\":{\"endlinecolor\":\"#2a3f5f\",\"gridcolor\":\"white\",\"linecolor\":\"white\",\"minorgridcolor\":\"white\",\"startlinecolor\":\"#2a3f5f\"},\"type\":\"carpet\"}],\"table\":[{\"cells\":{\"fill\":{\"color\":\"#EBF0F8\"},\"line\":{\"color\":\"white\"}},\"header\":{\"fill\":{\"color\":\"#C8D4E3\"},\"line\":{\"color\":\"white\"}},\"type\":\"table\"}],\"barpolar\":[{\"marker\":{\"line\":{\"color\":\"#E5ECF6\",\"width\":0.5},\"pattern\":{\"fillmode\":\"overlay\",\"size\":10,\"solidity\":0.2}},\"type\":\"barpolar\"}],\"pie\":[{\"automargin\":true,\"type\":\"pie\"}]},\"layout\":{\"autotypenumbers\":\"strict\",\"colorway\":[\"#636efa\",\"#EF553B\",\"#00cc96\",\"#ab63fa\",\"#FFA15A\",\"#19d3f3\",\"#FF6692\",\"#B6E880\",\"#FF97FF\",\"#FECB52\"],\"font\":{\"color\":\"#2a3f5f\"},\"hovermode\":\"closest\",\"hoverlabel\":{\"align\":\"left\"},\"paper_bgcolor\":\"white\",\"plot_bgcolor\":\"#E5ECF6\",\"polar\":{\"bgcolor\":\"#E5ECF6\",\"angularaxis\":{\"gridcolor\":\"white\",\"linecolor\":\"white\",\"ticks\":\"\"},\"radialaxis\":{\"gridcolor\":\"white\",\"linecolor\":\"white\",\"ticks\":\"\"}},\"ternary\":{\"bgcolor\":\"#E5ECF6\",\"aaxis\":{\"gridcolor\":\"white\",\"linecolor\":\"white\",\"ticks\":\"\"},\"baxis\":{\"gridcolor\":\"white\",\"linecolor\":\"white\",\"ticks\":\"\"},\"caxis\":{\"gridcolor\":\"white\",\"linecolor\":\"white\",\"ticks\":\"\"}},\"coloraxis\":{\"colorbar\":{\"outlinewidth\":0,\"ticks\":\"\"}},\"colorscale\":{\"sequential\":[[0.0,\"#0d0887\"],[0.1111111111111111,\"#46039f\"],[0.2222222222222222,\"#7201a8\"],[0.3333333333333333,\"#9c179e\"],[0.4444444444444444,\"#bd3786\"],[0.5555555555555556,\"#d8576b\"],[0.6666666666666666,\"#ed7953\"],[0.7777777777777778,\"#fb9f3a\"],[0.8888888888888888,\"#fdca26\"],[1.0,\"#f0f921\"]],\"sequentialminus\":[[0.0,\"#0d0887\"],[0.1111111111111111,\"#46039f\"],[0.2222222222222222,\"#7201a8\"],[0.3333333333333333,\"#9c179e\"],[0.4444444444444444,\"#bd3786\"],[0.5555555555555556,\"#d8576b\"],[0.6666666666666666,\"#ed7953\"],[0.7777777777777778,\"#fb9f3a\"],[0.8888888888888888,\"#fdca26\"],[1.0,\"#f0f921\"]],\"diverging\":[[0,\"#8e0152\"],[0.1,\"#c51b7d\"],[0.2,\"#de77ae\"],[0.3,\"#f1b6da\"],[0.4,\"#fde0ef\"],[0.5,\"#f7f7f7\"],[0.6,\"#e6f5d0\"],[0.7,\"#b8e186\"],[0.8,\"#7fbc41\"],[0.9,\"#4d9221\"],[1,\"#276419\"]]},\"xaxis\":{\"gridcolor\":\"white\",\"linecolor\":\"white\",\"ticks\":\"\",\"title\":{\"standoff\":15},\"zerolinecolor\":\"white\",\"automargin\":true,\"zerolinewidth\":2},\"yaxis\":{\"gridcolor\":\"white\",\"linecolor\":\"white\",\"ticks\":\"\",\"title\":{\"standoff\":15},\"zerolinecolor\":\"white\",\"automargin\":true,\"zerolinewidth\":2},\"scene\":{\"xaxis\":{\"backgroundcolor\":\"#E5ECF6\",\"gridcolor\":\"white\",\"linecolor\":\"white\",\"showbackground\":true,\"ticks\":\"\",\"zerolinecolor\":\"white\",\"gridwidth\":2},\"yaxis\":{\"backgroundcolor\":\"#E5ECF6\",\"gridcolor\":\"white\",\"linecolor\":\"white\",\"showbackground\":true,\"ticks\":\"\",\"zerolinecolor\":\"white\",\"gridwidth\":2},\"zaxis\":{\"backgroundcolor\":\"#E5ECF6\",\"gridcolor\":\"white\",\"linecolor\":\"white\",\"showbackground\":true,\"ticks\":\"\",\"zerolinecolor\":\"white\",\"gridwidth\":2}},\"shapedefaults\":{\"line\":{\"color\":\"#2a3f5f\"}},\"annotationdefaults\":{\"arrowcolor\":\"#2a3f5f\",\"arrowhead\":0,\"arrowwidth\":1},\"geo\":{\"bgcolor\":\"white\",\"landcolor\":\"#E5ECF6\",\"subunitcolor\":\"white\",\"showland\":true,\"showlakes\":true,\"lakecolor\":\"white\"},\"title\":{\"x\":0.05},\"mapbox\":{\"style\":\"light\"}}},\"xaxis\":{\"anchor\":\"y\",\"domain\":[0.0,1.0],\"title\":{\"text\":\"x\"}},\"yaxis\":{\"anchor\":\"x\",\"domain\":[0.0,1.0],\"title\":{\"text\":\"y\"}},\"legend\":{\"tracegroupgap\":0},\"title\":{\"text\":\"Fruit Inventory\"},\"barmode\":\"relative\"},                        {\"responsive\": true}                    ).then(function(){\n",
              "                            \n",
              "var gd = document.getElementById('dce72558-39e3-4113-8713-6ea7e27b6a8f');\n",
              "var x = new MutationObserver(function (mutations, observer) {{\n",
              "        var display = window.getComputedStyle(gd).display;\n",
              "        if (!display || display === 'none') {{\n",
              "            console.log([gd, 'removed!']);\n",
              "            Plotly.purge(gd);\n",
              "            observer.disconnect();\n",
              "        }}\n",
              "}});\n",
              "\n",
              "// Listen for the removal of the full notebook cells\n",
              "var notebookContainer = gd.closest('#notebook-container');\n",
              "if (notebookContainer) {{\n",
              "    x.observe(notebookContainer, {childList: true});\n",
              "}}\n",
              "\n",
              "// Listen for the clearing of the current output cell\n",
              "var outputEl = gd.closest('.output');\n",
              "if (outputEl) {{\n",
              "    x.observe(outputEl, {childList: true});\n",
              "}}\n",
              "\n",
              "                        })                };                            </script>        </div>\n",
              "</body>\n",
              "</html>"
            ]
          },
          "metadata": {}
        }
      ]
    },
    {
      "cell_type": "code",
      "source": [
        "#6. Create a DataFrame and add a new column based on an existing column.\n",
        "import pandas as pd\n",
        "\n",
        "# Create a DataFrame from a Dictionary\n",
        "data={\n",
        "    \"Name\": [\"Aman\", \"Babita\", \"Charu\", \"Darshan\"],\n",
        "    \"Age\": [25, 30, 35, 40],\n",
        "    \"Salary\": [50000, 60000, 70000, 80000]\n",
        "}\n",
        "df = pd.DataFrame(data)\n",
        "\n",
        "#  Add a new column based on existing column 'Salary'\n",
        "#  Add 10% bonus to Salary\n",
        "df['Salary_with_Bonus'] = df['Salary'] * 1.10\n",
        "print(df)"
      ],
      "metadata": {
        "id": "Ezq7mWTT8O3c",
        "colab": {
          "base_uri": "https://localhost:8080/"
        },
        "outputId": "ed76acb2-6f9d-4ca1-91d9-f469510f8a5d"
      },
      "execution_count": null,
      "outputs": [
        {
          "output_type": "stream",
          "name": "stdout",
          "text": [
            "      Name  Age  Salary  Salary_with_Bonus\n",
            "0     Aman   25   50000            55000.0\n",
            "1   Babita   30   60000            66000.0\n",
            "2    Charu   35   70000            77000.0\n",
            "3  Darshan   40   80000            88000.0\n"
          ]
        }
      ]
    },
    {
      "cell_type": "code",
      "source": [
        "#7.  Write a program to perform element-wise multiplication of two NumPy arrays.\n",
        "import numpy as np\n",
        "\n",
        "# Define two NumPy arrays\n",
        "array1 = np.array([[1, 2], [3, 4]])\n",
        "array2 = np.array([[5, 6], [7, 8]])\n",
        "\n",
        "# Perform element-wise multiplication\n",
        "result = np.multiply(array1, array2)\n",
        "\n",
        "# Display the result\n",
        "print(\"Array 1:\")\n",
        "print(array1)\n",
        "print(\"\\nArray 2:\")\n",
        "print(array2)\n",
        "print(\"\\nElement-wise multiplication result:\")\n",
        "print(result)"
      ],
      "metadata": {
        "colab": {
          "base_uri": "https://localhost:8080/"
        },
        "id": "2RwkxDjr8iH2",
        "outputId": "f8a38303-91ff-4de1-ce9a-a465fe68479e"
      },
      "execution_count": null,
      "outputs": [
        {
          "output_type": "stream",
          "name": "stdout",
          "text": [
            "Array 1:\n",
            "[[1 2]\n",
            " [3 4]]\n",
            "\n",
            "Array 2:\n",
            "[[5 6]\n",
            " [7 8]]\n",
            "\n",
            "Element-wise multiplication result:\n",
            "[[ 5 12]\n",
            " [21 32]]\n"
          ]
        }
      ]
    },
    {
      "cell_type": "code",
      "source": [
        "#8.  Create a line plot with multiple lines using Matplotlib.\n",
        "import matplotlib.pyplot as plt\n",
        "\n",
        "# Data for plotting\n",
        "x = [1, 2, 3, 4, 5]\n",
        "y1 = [1, 4, 9, 16, 25]\n",
        "y2 = [2, 4, 6, 8, 10]\n",
        "y3 = [5, 7, 9, 11, 13]\n",
        "\n",
        "# Plotting multiple lines\n",
        "plt.plot(x, y1, label='Line 1', color='blue', linestyle='-', marker='o')\n",
        "plt.plot(x, y2, label='Line 2', color='green', linestyle='--', marker='s')\n",
        "plt.plot(x, y3, label='Line 3', color='red', linestyle='-.', marker='^')\n",
        "\n",
        "# Adding labels, title, and legend\n",
        "plt.xlabel('X-axis')\n",
        "plt.ylabel('Y-axis')\n",
        "plt.title('Multiple Line Plot')\n",
        "plt.legend()\n",
        "\n",
        "# Display the plot\n",
        "plt.show()"
      ],
      "metadata": {
        "colab": {
          "base_uri": "https://localhost:8080/",
          "height": 472
        },
        "id": "y7vM1OWS82cH",
        "outputId": "11e9c06d-7dd0-44d3-cf6e-575e3a5ecacb"
      },
      "execution_count": null,
      "outputs": [
        {
          "output_type": "display_data",
          "data": {
            "text/plain": [
              "<Figure size 640x480 with 1 Axes>"
            ],
            "image/png": "[encoded data removed]"
          },
          "metadata": {}
        }
      ]
    },
    {
      "cell_type": "code",
      "source": [
        "#9. Generate a Pandas DataFrame and filter rows where a column value is greater than a threshold.\n",
        "import pandas as pd\n",
        "\n",
        "# Step 1: Create a DataFrame\n",
        "data = {\n",
        "'Name': ['Alice', 'Bob', 'Charlie', 'David'],\n",
        "'Age': [25, 32, 45, 28],\n",
        "'Score': [85, 90, 78, 88]\n",
        "}\n",
        "df = pd.DataFrame(data)\n",
        "\n",
        "# Step 2: Filter rows where 'Age' is greater than 30\n",
        "threshold = 30\n",
        "filtered_df = df[df['Age'] > threshold]\n",
        "\n",
        "# Display the filtered DataFrame\n",
        "print(filtered_df)"
      ],
      "metadata": {
        "colab": {
          "base_uri": "https://localhost:8080/"
        },
        "id": "fePzafxG9cNY",
        "outputId": "cc5f00d0-2ab4-44fa-c5ef-5cab5f31a4e5"
      },
      "execution_count": null,
      "outputs": [
        {
          "output_type": "stream",
          "name": "stdout",
          "text": [
            "      Name  Age  Score\n",
            "1      Bob   32     90\n",
            "2  Charlie   45     78\n"
          ]
        }
      ]
    },
    {
      "cell_type": "code",
      "source": [
        "#10. Create a histogram using Seaborn to visualize a distribution.\n",
        "import seaborn as sns\n",
        "import matplotlib.pyplot as plt\n",
        "\n",
        "# Load dataset\n",
        "penguins = sns.load_dataset(\"penguins\")\n",
        "\n",
        "# Create a histogram\n",
        "sns.displot(penguins, x=\"flipper_length_mm\")\n",
        "plt.show()"
      ],
      "metadata": {
        "colab": {
          "base_uri": "https://localhost:8080/",
          "height": 506
        },
        "id": "wa6uOo4c_nUa",
        "outputId": "438cb440-1ff7-4055-c34c-2153e1873423"
      },
      "execution_count": null,
      "outputs": [
        {
          "output_type": "display_data",
          "data": {
            "text/plain": [
              "<Figure size 500x500 with 1 Axes>"
            ],
            "image/png": "[encoded data removed]"
          },
          "metadata": {}
        }
      ]
    },
    {
      "cell_type": "code",
      "source": [
        "#11.  Perform matrix multiplication using NumPy.\n",
        "import numpy as np\n",
        "\n",
        "# Define two matrices\n",
        "A = np.array([[1, 2], [2, 3]])\n",
        "B = np.array([[4, 5], [6, 7]])\n",
        "\n",
        "# Method 1: Using np.dot()\n",
        "result_dot = np.dot(A, B)\n",
        "\n",
        "# Method 2: Using np.matmul()\n",
        "result_matmul = np.matmul(A, B)\n",
        "\n",
        "# Method 3: Using the @ operator (Python 3.5+)\n",
        "result_operator = A @ B\n",
        "\n",
        "# Print results\n",
        "print(\"Result using np.dot():\\n\", result_dot)\n",
        "print(\"Result using np.matmul():\\n\", result_matmul)\n",
        "print(\"Result using @ operator:\\n\", result_operator)"
      ],
      "metadata": {
        "colab": {
          "base_uri": "https://localhost:8080/"
        },
        "id": "O_tg1r3V_8JR",
        "outputId": "bb998890-6d8f-443b-e7d0-729590ac0dd4"
      },
      "execution_count": null,
      "outputs": [
        {
          "output_type": "stream",
          "name": "stdout",
          "text": [
            "Result using np.dot():\n",
            " [[16 19]\n",
            " [26 31]]\n",
            "Result using np.matmul():\n",
            " [[16 19]\n",
            " [26 31]]\n",
            "Result using @ operator:\n",
            " [[16 19]\n",
            " [26 31]]\n"
          ]
        }
      ]
    },
    {
      "cell_type": "code",
      "source": [
        "#12. Use Pandas to load a CSV file and display its first 5 row.\n",
        "import pandas as pd\n",
        "\n",
        "# Load the CSV file\n",
        "df = pd.read_csv('taxonomy.csv')\n",
        "\n",
        "# Display the first 5 rows\n",
        "print(df.head())"
      ],
      "metadata": {
        "colab": {
          "base_uri": "https://localhost:8080/"
        },
        "id": "h4DB8eQAAgKq",
        "outputId": "a51f91a6-5a68-4563-b496-52b8cc17200b"
      },
      "execution_count": null,
      "outputs": [
        {
          "output_type": "stream",
          "name": "stdout",
          "text": [
            "  taxonomy_id                     name parent_id     parent_name\n",
            "0         101                Emergency       NaN             NaN\n",
            "1      101-01        Disaster Response       101       Emergency\n",
            "2      101-02           Emergency Cash       101       Emergency\n",
            "3   101-02-01        Help Pay for Food    101-02  Emergency Cash\n",
            "4   101-02-02  Help Pay for Healthcare    101-02  Emergency Cash\n"
          ]
        }
      ]
    },
    {
      "cell_type": "code",
      "source": [
        "#13.  Create a 3D scatter plot using Plotly.\n",
        "import plotly.graph_objects as go\n",
        "import numpy as np\n",
        "\n",
        "# Generate sample data for the 3D scatter plot\n",
        "np.random.seed(42)  # For reproducible results\n",
        "x = np.random.randn(50)\n",
        "y = np.random.randn(50)\n",
        "z = np.random.randn(50)\n",
        "colors = np.random.rand(50)  # Color scale values for markers\n",
        "sizes = np.random.randint(5, 20, size=50)  # Marker sizes\n",
        "\n",
        "# Create the 3D scatter plot\n",
        "fig = go.Figure(data=[\n",
        "    go.Scatter3d(\n",
        "        x=x,\n",
        "        y=y,\n",
        "        z=z,\n",
        "        mode='markers',\n",
        "        marker=dict(\n",
        "            size=sizes,\n",
        "            color=colors,          # Set color to random values\n",
        "            colorscale='Viridis',  # Choose a colorscale\n",
        "            opacity=0.8\n",
        "        )\n",
        "    )\n",
        "])\n",
        "# Customize layout for better visualization\n",
        "fig.update_layout(\n",
        "    scene=dict(\n",
        "        xaxis_title='X Axis',\n",
        "        yaxis_title='Y Axis',\n",
        "        zaxis_title='Z Axis'\n",
        "    ),\n",
        "    title='3D Scatter Plot Example',\n",
        "    margin=dict(l=0, r=0, b=0, t=50)\n",
        ")\n",
        "\n",
        "\n",
        "# Show the interactive plot\n",
        "fig.show()"
      ],
      "metadata": {
        "id": "fpX1Ln25A-iI",
        "colab": {
          "base_uri": "https://localhost:8080/",
          "height": 542
        },
        "outputId": "c47510af-829b-434c-fa87-c5900f49a643"
      },
      "execution_count": null,
      "outputs": [
        {
          "output_type": "display_data",
          "data": {
            "text/html": [
              "<html>\n",
              "<head><meta charset=\"utf-8\" /></head>\n",
              "<body>\n",
              "    <div>            <script src=\"https://cdnjs.cloudflare.com/ajax/libs/mathjax/2.7.5/MathJax.js?config=TeX-AMS-MML_SVG\"></script><script type=\"text/javascript\">if (window.MathJax && window.MathJax.Hub && window.MathJax.Hub.Config) {window.MathJax.Hub.Config({SVG: {font: \"STIX-Web\"}});}</script>                <script type=\"text/javascript\">window.PlotlyConfig = {MathJaxConfig: 'local'};</script>\n",
              "        <script charset=\"utf-8\" src=\"https://cdn.plot.ly/plotly-2.35.2.min.js\"></script>                <div id=\"c15031cc-0825-4f6f-816f-f6ffb7c40acd\" class=\"plotly-graph-div\" style=\"height:525px; width:100%;\"></div>            <script type=\"text/javascript\">                                    window.PLOTLYENV=window.PLOTLYENV || {};                                    if (document.getElementById(\"c15031cc-0825-4f6f-816f-f6ffb7c40acd\")) {                    Plotly.newPlot(                        \"c15031cc-0825-4f6f-816f-f6ffb7c40acd\",                        [{\"marker\":{\"color\":[0.8870864242651173,0.7798755458576239,0.6420316461542878,0.08413996499504883,0.16162871409461377,0.8985541885270792,0.6064290596595899,0.009197051616629648,0.1014715428660321,0.6635017691080558,0.005061583846218687,0.16080805141749865,0.5487337893665861,0.6918951976926933,0.6519612595026005,0.22426930946055978,0.7121792213475359,0.23724908749680007,0.3253996981592677,0.7464914051180241,0.6496328990472147,0.8492234104941779,0.6576128923003434,0.5683086033354716,0.09367476782809248,0.3677158030594335,0.26520236768172545,0.24398964337908358,0.9730105547524456,0.3930977246667604,0.8920465551771133,0.6311386259972629,0.7948113035416484,0.5026370931051921,0.5769038846263591,0.4925176938188639,0.1952429877980445,0.7224521152615053,0.2807723624408558,0.02431596643145384,0.6454722959071678,0.17711067940704894,0.9404585843529143,0.9539285770025874,0.9148643902204485,0.3701587002554444,0.015456616528867428,0.9283185625877254,0.42818414831731433,0.9666548190436696],\"colorscale\":[[0.0,\"#440154\"],[0.1111111111111111,\"#482878\"],[0.2222222222222222,\"#3e4989\"],[0.3333333333333333,\"#31688e\"],[0.4444444444444444,\"#26828e\"],[0.5555555555555556,\"#1f9e89\"],[0.6666666666666666,\"#35b779\"],[0.7777777777777778,\"#6ece58\"],[0.8888888888888888,\"#b5de2b\"],[1.0,\"#fde725\"]],\"opacity\":0.8,\"size\":[7,16,5,8,19,17,9,11,5,7,6,13,14,19,10,14,7,12,18,12,6,19,10,11,6,19,15,14,6,14,5,12,5,13,15,10,11,17,14,11,14,7,6,13,12,17,16,14,11,13]},\"mode\":\"markers\",\"x\":[0.4967141530112327,-0.13826430117118466,0.6476885381006925,1.5230298564080254,-0.23415337472333597,-0.23413695694918055,1.5792128155073915,0.7674347291529088,-0.4694743859349521,0.5425600435859647,-0.46341769281246226,-0.46572975357025687,0.24196227156603412,-1.913280244657798,-1.7249178325130328,-0.5622875292409727,-1.0128311203344238,0.3142473325952739,-0.9080240755212109,-1.4123037013352915,1.465648768921554,-0.22577630048653566,0.06752820468792384,-1.4247481862134568,-0.5443827245251827,0.11092258970986608,-1.1509935774223028,0.37569801834567196,-0.600638689918805,-0.2916937497932768,-0.6017066122293969,1.8522781845089378,-0.013497224737933921,-1.0577109289559004,0.822544912103189,-1.2208436499710222,0.2088635950047554,-1.9596701238797756,-1.3281860488984305,0.19686123586912352,0.7384665799954104,0.1713682811899705,-0.11564828238824053,-0.3011036955892888,-1.4785219903674274,-0.7198442083947086,-0.4606387709597875,1.0571222262189157,0.3436182895684614,-1.763040155362734],\"y\":[0.324083969394795,-0.38508228041631654,-0.6769220003059587,0.6116762888408679,1.030999522495951,0.9312801191161986,-0.8392175232226385,-0.3092123758512146,0.33126343140356396,0.9755451271223592,-0.47917423784528995,-0.18565897666381712,-1.1063349740060282,-1.1962066240806708,0.812525822394198,1.356240028570823,-0.07201012158033385,1.0035328978920242,0.36163602504763415,-0.6451197546051243,0.36139560550841393,1.5380365664659692,-0.03582603910995154,1.5646436558140062,-2.6197451040897444,0.8219025043752238,0.08704706823817122,-0.29900735046586746,0.0917607765355023,-1.9875689146008928,-0.21967188783751193,0.3571125715117464,1.477894044741516,-0.5182702182736474,-0.8084936028931876,-0.5017570435845365,0.9154021177020741,0.32875110965968446,-0.5297602037670388,0.5132674331133561,0.09707754934804039,0.9686449905328892,-0.7020530938773524,-0.3276621465977682,-0.39210815313215763,-1.4635149481321186,0.29612027706457605,0.26105527217988933,0.00511345664246089,-0.23458713337514692],\"z\":[-1.4153707420504142,-0.42064532276535904,-0.3427145165267695,-0.8022772692216189,-0.16128571166600914,0.4040508568145384,1.8861859012105302,0.17457781283183896,0.25755039072276437,-0.07444591576616721,-1.9187712152990415,-0.026513875449216878,0.06023020994102644,2.463242112485286,-0.19236096478112252,0.30154734233361247,-0.03471176970524331,-1.168678037619532,1.1428228145150205,0.7519330326867741,0.7910319470430469,-0.9093874547947389,1.4027943109360992,-1.4018510627922809,0.5868570938002703,2.1904556258099785,-0.9905363251306883,-0.5662977296027719,0.09965136508764122,-0.5034756541161992,-1.5506634310661327,0.06856297480602733,-1.0623037137261049,0.4735924306351816,-0.9194242342338032,1.5499344050175394,-0.7832532923362371,-0.3220615162056756,0.8135172173696698,-1.2308643164339552,0.22745993460412942,1.307142754282428,-1.6074832345612275,0.1846338585323042,0.25988279424842353,0.7818228717773104,-1.236950710878082,-1.3204566130842763,0.5219415656168976,0.29698467323318606],\"type\":\"scatter3d\"}],                        {\"template\":{\"data\":{\"histogram2dcontour\":[{\"type\":\"histogram2dcontour\",\"colorbar\":{\"outlinewidth\":0,\"ticks\":\"\"},\"colorscale\":[[0.0,\"#0d0887\"],[0.1111111111111111,\"#46039f\"],[0.2222222222222222,\"#7201a8\"],[0.3333333333333333,\"#9c179e\"],[0.4444444444444444,\"#bd3786\"],[0.5555555555555556,\"#d8576b\"],[0.6666666666666666,\"#ed7953\"],[0.7777777777777778,\"#fb9f3a\"],[0.8888888888888888,\"#fdca26\"],[1.0,\"#f0f921\"]]}],\"choropleth\":[{\"type\":\"choropleth\",\"colorbar\":{\"outlinewidth\":0,\"ticks\":\"\"}}],\"histogram2d\":[{\"type\":\"histogram2d\",\"colorbar\":{\"outlinewidth\":0,\"ticks\":\"\"},\"colorscale\":[[0.0,\"#0d0887\"],[0.1111111111111111,\"#46039f\"],[0.2222222222222222,\"#7201a8\"],[0.3333333333333333,\"#9c179e\"],[0.4444444444444444,\"#bd3786\"],[0.5555555555555556,\"#d8576b\"],[0.6666666666666666,\"#ed7953\"],[0.7777777777777778,\"#fb9f3a\"],[0.8888888888888888,\"#fdca26\"],[1.0,\"#f0f921\"]]}],\"heatmap\":[{\"type\":\"heatmap\",\"colorbar\":{\"outlinewidth\":0,\"ticks\":\"\"},\"colorscale\":[[0.0,\"#0d0887\"],[0.1111111111111111,\"#46039f\"],[0.2222222222222222,\"#7201a8\"],[0.3333333333333333,\"#9c179e\"],[0.4444444444444444,\"#bd3786\"],[0.5555555555555556,\"#d8576b\"],[0.6666666666666666,\"#ed7953\"],[0.7777777777777778,\"#fb9f3a\"],[0.8888888888888888,\"#fdca26\"],[1.0,\"#f0f921\"]]}],\"heatmapgl\":[{\"type\":\"heatmapgl\",\"colorbar\":{\"outlinewidth\":0,\"ticks\":\"\"},\"colorscale\":[[0.0,\"#0d0887\"],[0.1111111111111111,\"#46039f\"],[0.2222222222222222,\"#7201a8\"],[0.3333333333333333,\"#9c179e\"],[0.4444444444444444,\"#bd3786\"],[0.5555555555555556,\"#d8576b\"],[0.6666666666666666,\"#ed7953\"],[0.7777777777777778,\"#fb9f3a\"],[0.8888888888888888,\"#fdca26\"],[1.0,\"#f0f921\"]]}],\"contourcarpet\":[{\"type\":\"contourcarpet\",\"colorbar\":{\"outlinewidth\":0,\"ticks\":\"\"}}],\"contour\":[{\"type\":\"contour\",\"colorbar\":{\"outlinewidth\":0,\"ticks\":\"\"},\"colorscale\":[[0.0,\"#0d0887\"],[0.1111111111111111,\"#46039f\"],[0.2222222222222222,\"#7201a8\"],[0.3333333333333333,\"#9c179e\"],[0.4444444444444444,\"#bd3786\"],[0.5555555555555556,\"#d8576b\"],[0.6666666666666666,\"#ed7953\"],[0.7777777777777778,\"#fb9f3a\"],[0.8888888888888888,\"#fdca26\"],[1.0,\"#f0f921\"]]}],\"surface\":[{\"type\":\"surface\",\"colorbar\":{\"outlinewidth\":0,\"ticks\":\"\"},\"colorscale\":[[0.0,\"#0d0887\"],[0.1111111111111111,\"#46039f\"],[0.2222222222222222,\"#7201a8\"],[0.3333333333333333,\"#9c179e\"],[0.4444444444444444,\"#bd3786\"],[0.5555555555555556,\"#d8576b\"],[0.6666666666666666,\"#ed7953\"],[0.7777777777777778,\"#fb9f3a\"],[0.8888888888888888,\"#fdca26\"],[1.0,\"#f0f921\"]]}],\"mesh3d\":[{\"type\":\"mesh3d\",\"colorbar\":{\"outlinewidth\":0,\"ticks\":\"\"}}],\"scatter\":[{\"fillpattern\":{\"fillmode\":\"overlay\",\"size\":10,\"solidity\":0.2},\"type\":\"scatter\"}],\"parcoords\":[{\"type\":\"parcoords\",\"line\":{\"colorbar\":{\"outlinewidth\":0,\"ticks\":\"\"}}}],\"scatterpolargl\":[{\"type\":\"scatterpolargl\",\"marker\":{\"colorbar\":{\"outlinewidth\":0,\"ticks\":\"\"}}}],\"bar\":[{\"error_x\":{\"color\":\"#2a3f5f\"},\"error_y\":{\"color\":\"#2a3f5f\"},\"marker\":{\"line\":{\"color\":\"#E5ECF6\",\"width\":0.5},\"pattern\":{\"fillmode\":\"overlay\",\"size\":10,\"solidity\":0.2}},\"type\":\"bar\"}],\"scattergeo\":[{\"type\":\"scattergeo\",\"marker\":{\"colorbar\":{\"outlinewidth\":0,\"ticks\":\"\"}}}],\"scatterpolar\":[{\"type\":\"scatterpolar\",\"marker\":{\"colorbar\":{\"outlinewidth\":0,\"ticks\":\"\"}}}],\"histogram\":[{\"marker\":{\"pattern\":{\"fillmode\":\"overlay\",\"size\":10,\"solidity\":0.2}},\"type\":\"histogram\"}],\"scattergl\":[{\"type\":\"scattergl\",\"marker\":{\"colorbar\":{\"outlinewidth\":0,\"ticks\":\"\"}}}],\"scatter3d\":[{\"type\":\"scatter3d\",\"line\":{\"colorbar\":{\"outlinewidth\":0,\"ticks\":\"\"}},\"marker\":{\"colorbar\":{\"outlinewidth\":0,\"ticks\":\"\"}}}],\"scattermapbox\":[{\"type\":\"scattermapbox\",\"marker\":{\"colorbar\":{\"outlinewidth\":0,\"ticks\":\"\"}}}],\"scatterternary\":[{\"type\":\"scatterternary\",\"marker\":{\"colorbar\":{\"outlinewidth\":0,\"ticks\":\"\"}}}],\"scattercarpet\":[{\"type\":\"scattercarpet\",\"marker\":{\"colorbar\":{\"outlinewidth\":0,\"ticks\":\"\"}}}],\"carpet\":[{\"aaxis\":{\"endlinecolor\":\"#2a3f5f\",\"gridcolor\":\"white\",\"linecolor\":\"white\",\"minorgridcolor\":\"white\",\"startlinecolor\":\"#2a3f5f\"},\"baxis\":{\"endlinecolor\":\"#2a3f5f\",\"gridcolor\":\"white\",\"linecolor\":\"white\",\"minorgridcolor\":\"white\",\"startlinecolor\":\"#2a3f5f\"},\"type\":\"carpet\"}],\"table\":[{\"cells\":{\"fill\":{\"color\":\"#EBF0F8\"},\"line\":{\"color\":\"white\"}},\"header\":{\"fill\":{\"color\":\"#C8D4E3\"},\"line\":{\"color\":\"white\"}},\"type\":\"table\"}],\"barpolar\":[{\"marker\":{\"line\":{\"color\":\"#E5ECF6\",\"width\":0.5},\"pattern\":{\"fillmode\":\"overlay\",\"size\":10,\"solidity\":0.2}},\"type\":\"barpolar\"}],\"pie\":[{\"automargin\":true,\"type\":\"pie\"}]},\"layout\":{\"autotypenumbers\":\"strict\",\"colorway\":[\"#636efa\",\"#EF553B\",\"#00cc96\",\"#ab63fa\",\"#FFA15A\",\"#19d3f3\",\"#FF6692\",\"#B6E880\",\"#FF97FF\",\"#FECB52\"],\"font\":{\"color\":\"#2a3f5f\"},\"hovermode\":\"closest\",\"hoverlabel\":{\"align\":\"left\"},\"paper_bgcolor\":\"white\",\"plot_bgcolor\":\"#E5ECF6\",\"polar\":{\"bgcolor\":\"#E5ECF6\",\"angularaxis\":{\"gridcolor\":\"white\",\"linecolor\":\"white\",\"ticks\":\"\"},\"radialaxis\":{\"gridcolor\":\"white\",\"linecolor\":\"white\",\"ticks\":\"\"}},\"ternary\":{\"bgcolor\":\"#E5ECF6\",\"aaxis\":{\"gridcolor\":\"white\",\"linecolor\":\"white\",\"ticks\":\"\"},\"baxis\":{\"gridcolor\":\"white\",\"linecolor\":\"white\",\"ticks\":\"\"},\"caxis\":{\"gridcolor\":\"white\",\"linecolor\":\"white\",\"ticks\":\"\"}},\"coloraxis\":{\"colorbar\":{\"outlinewidth\":0,\"ticks\":\"\"}},\"colorscale\":{\"sequential\":[[0.0,\"#0d0887\"],[0.1111111111111111,\"#46039f\"],[0.2222222222222222,\"#7201a8\"],[0.3333333333333333,\"#9c179e\"],[0.4444444444444444,\"#bd3786\"],[0.5555555555555556,\"#d8576b\"],[0.6666666666666666,\"#ed7953\"],[0.7777777777777778,\"#fb9f3a\"],[0.8888888888888888,\"#fdca26\"],[1.0,\"#f0f921\"]],\"sequentialminus\":[[0.0,\"#0d0887\"],[0.1111111111111111,\"#46039f\"],[0.2222222222222222,\"#7201a8\"],[0.3333333333333333,\"#9c179e\"],[0.4444444444444444,\"#bd3786\"],[0.5555555555555556,\"#d8576b\"],[0.6666666666666666,\"#ed7953\"],[0.7777777777777778,\"#fb9f3a\"],[0.8888888888888888,\"#fdca26\"],[1.0,\"#f0f921\"]],\"diverging\":[[0,\"#8e0152\"],[0.1,\"#c51b7d\"],[0.2,\"#de77ae\"],[0.3,\"#f1b6da\"],[0.4,\"#fde0ef\"],[0.5,\"#f7f7f7\"],[0.6,\"#e6f5d0\"],[0.7,\"#b8e186\"],[0.8,\"#7fbc41\"],[0.9,\"#4d9221\"],[1,\"#276419\"]]},\"xaxis\":{\"gridcolor\":\"white\",\"linecolor\":\"white\",\"ticks\":\"\",\"title\":{\"standoff\":15},\"zerolinecolor\":\"white\",\"automargin\":true,\"zerolinewidth\":2},\"yaxis\":{\"gridcolor\":\"white\",\"linecolor\":\"white\",\"ticks\":\"\",\"title\":{\"standoff\":15},\"zerolinecolor\":\"white\",\"automargin\":true,\"zerolinewidth\":2},\"scene\":{\"xaxis\":{\"backgroundcolor\":\"#E5ECF6\",\"gridcolor\":\"white\",\"linecolor\":\"white\",\"showbackground\":true,\"ticks\":\"\",\"zerolinecolor\":\"white\",\"gridwidth\":2},\"yaxis\":{\"backgroundcolor\":\"#E5ECF6\",\"gridcolor\":\"white\",\"linecolor\":\"white\",\"showbackground\":true,\"ticks\":\"\",\"zerolinecolor\":\"white\",\"gridwidth\":2},\"zaxis\":{\"backgroundcolor\":\"#E5ECF6\",\"gridcolor\":\"white\",\"linecolor\":\"white\",\"showbackground\":true,\"ticks\":\"\",\"zerolinecolor\":\"white\",\"gridwidth\":2}},\"shapedefaults\":{\"line\":{\"color\":\"#2a3f5f\"}},\"annotationdefaults\":{\"arrowcolor\":\"#2a3f5f\",\"arrowhead\":0,\"arrowwidth\":1},\"geo\":{\"bgcolor\":\"white\",\"landcolor\":\"#E5ECF6\",\"subunitcolor\":\"white\",\"showland\":true,\"showlakes\":true,\"lakecolor\":\"white\"},\"title\":{\"x\":0.05},\"mapbox\":{\"style\":\"light\"}}},\"margin\":{\"l\":0,\"r\":0,\"b\":0,\"t\":50},\"scene\":{\"xaxis\":{\"title\":{\"text\":\"X Axis\"}},\"yaxis\":{\"title\":{\"text\":\"Y Axis\"}},\"zaxis\":{\"title\":{\"text\":\"Z Axis\"}}},\"title\":{\"text\":\"3D Scatter Plot Example\"}},                        {\"responsive\": true}                    ).then(function(){\n",
              "                            \n",
              "var gd = document.getElementById('c15031cc-0825-4f6f-816f-f6ffb7c40acd');\n",
              "var x = new MutationObserver(function (mutations, observer) {{\n",
              "        var display = window.getComputedStyle(gd).display;\n",
              "        if (!display || display === 'none') {{\n",
              "            console.log([gd, 'removed!']);\n",
              "            Plotly.purge(gd);\n",
              "            observer.disconnect();\n",
              "        }}\n",
              "}});\n",
              "\n",
              "// Listen for the removal of the full notebook cells\n",
              "var notebookContainer = gd.closest('#notebook-container');\n",
              "if (notebookContainer) {{\n",
              "    x.observe(notebookContainer, {childList: true});\n",
              "}}\n",
              "\n",
              "// Listen for the clearing of the current output cell\n",
              "var outputEl = gd.closest('.output');\n",
              "if (outputEl) {{\n",
              "    x.observe(outputEl, {childList: true});\n",
              "}}\n",
              "\n",
              "                        })                };                            </script>        </div>\n",
              "</body>\n",
              "</html>"
            ]
          },
          "metadata": {}
        }
      ]
    }
  ]
}